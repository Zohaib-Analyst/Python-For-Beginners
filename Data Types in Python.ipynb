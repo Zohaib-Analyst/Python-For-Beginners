{
 "cells": [
  {
   "cell_type": "markdown",
   "id": "8f9d3f03-86b8-44fe-bfb0-5e0bc41c3b8a",
   "metadata": {},
   "source": [
    "# DATA TYPES"
   ]
  },
  {
   "cell_type": "markdown",
   "id": "b3e78240-dc21-4f35-9dcc-e970d4b73931",
   "metadata": {},
   "source": [
    "Data types are the classification of data that we are storing. \n",
    "\n",
    "These classifications tell us what type of operations can be performed on our data.\n",
    "\n",
    "The main data types in python are **Numeric**, **Boolean**, **Sequence data types**, **Sets** and **Dictionaries**."
   ]
  },
  {
   "cell_type": "markdown",
   "id": "8781fd79-22cb-400b-be90-1937adadb0bc",
   "metadata": {},
   "source": [
    "# Numeric"
   ]
  },
  {
   "cell_type": "markdown",
   "id": "4584ba49-0d4e-4636-9cea-da15b6ea5b92",
   "metadata": {},
   "source": [
    "Numeric data types are further classified into three types: \n",
    "- Integers \n",
    "- Floats\n",
    "- Complex"
   ]
  },
  {
   "cell_type": "markdown",
   "id": "611d0e94-06a3-4d0d-97bd-c302042f9062",
   "metadata": {},
   "source": [
    "- **Integers**\n",
    "\n",
    "An integer is basically a whole number. It could be positive or negative. \n",
    "\n",
    "An integer will remain an integer even if we perfom operations on it. "
   ]
  },
  {
   "cell_type": "code",
   "execution_count": 24,
   "id": "ee6b0956-102f-41e6-b0b8-b2474d0d715c",
   "metadata": {},
   "outputs": [
    {
     "name": "stdout",
     "output_type": "stream",
     "text": [
      "<class 'int'>\n"
     ]
    }
   ],
   "source": [
    "x = 20\n",
    "\n",
    "print(type(x))"
   ]
  },
  {
   "cell_type": "code",
   "execution_count": 25,
   "id": "13f82796-7901-4adc-bcf7-97ac3c6337b6",
   "metadata": {},
   "outputs": [
    {
     "name": "stdout",
     "output_type": "stream",
     "text": [
      "<class 'int'>\n"
     ]
    }
   ],
   "source": [
    "y = -20\n",
    "\n",
    "print(type(y))"
   ]
  },
  {
   "cell_type": "code",
   "execution_count": 26,
   "id": "a8662607-e8db-4849-a907-ee6995fe4ceb",
   "metadata": {},
   "outputs": [
    {
     "name": "stdout",
     "output_type": "stream",
     "text": [
      "<class 'int'>\n"
     ]
    }
   ],
   "source": [
    "z = 20 + 20\n",
    "\n",
    "print(type(z))"
   ]
  },
  {
   "cell_type": "markdown",
   "id": "03c98947-12a1-488a-bc58-6397bbabd66b",
   "metadata": {},
   "source": [
    "**Floats** \n",
    "\n",
    "When there is a decimal in a number, it's data type will be float. **All decimals are floats in python**."
   ]
  },
  {
   "cell_type": "code",
   "execution_count": 28,
   "id": "7d466998-aed9-4d55-95a6-66b646f9cd9f",
   "metadata": {},
   "outputs": [
    {
     "name": "stdout",
     "output_type": "stream",
     "text": [
      "<class 'float'>\n"
     ]
    }
   ],
   "source": [
    "a = 20.20\n",
    "\n",
    "print(type(a))"
   ]
  },
  {
   "cell_type": "markdown",
   "id": "d21787fb-862e-4fb5-a33c-2d3496cea33a",
   "metadata": {},
   "source": [
    "**Complex**\n",
    "\n",
    "We can use complex for imaginary numbers such as 10j where **j** is used as imaginary number.\n",
    "\n",
    "If we use anything else instead of j like c, k, m it will not work. "
   ]
  },
  {
   "cell_type": "code",
   "execution_count": 30,
   "id": "ac133f72-fc05-4e9a-9c95-295941c0c1d3",
   "metadata": {},
   "outputs": [
    {
     "name": "stdout",
     "output_type": "stream",
     "text": [
      "<class 'complex'>\n"
     ]
    }
   ],
   "source": [
    "i = 20 + 10j\n",
    "\n",
    "print(type(i))"
   ]
  },
  {
   "cell_type": "markdown",
   "id": "64fc87c0-274b-491b-a05a-7102bfceb83f",
   "metadata": {},
   "source": [
    "# Boolean"
   ]
  },
  {
   "cell_type": "markdown",
   "id": "14cb4bbe-6627-44b6-acba-2e87a92d306b",
   "metadata": {},
   "source": [
    "Boolean data type only has two built-in values either **TRUE** or **FALSE**.\n",
    "\n",
    "We can use it as a comparison operator."
   ]
  },
  {
   "cell_type": "code",
   "execution_count": 32,
   "id": "2510a504-a866-410d-add2-fcbfaff5ec6c",
   "metadata": {},
   "outputs": [],
   "source": [
    "prod_1 = 20"
   ]
  },
  {
   "cell_type": "code",
   "execution_count": 33,
   "id": "1e80a941-d54b-4716-a673-c9e8bd007a14",
   "metadata": {},
   "outputs": [],
   "source": [
    "prod_2 = 30"
   ]
  },
  {
   "cell_type": "code",
   "execution_count": 34,
   "id": "cd467e4f-6f42-4e88-9b93-ca6a8f716cff",
   "metadata": {},
   "outputs": [],
   "source": [
    "prod_3 = 10"
   ]
  },
  {
   "cell_type": "code",
   "execution_count": 35,
   "id": "f4f84960-a437-40bb-aa76-85fef9c3f31c",
   "metadata": {},
   "outputs": [
    {
     "data": {
      "text/plain": [
       "False"
      ]
     },
     "execution_count": 35,
     "metadata": {},
     "output_type": "execute_result"
    }
   ],
   "source": [
    "prod_3 > prod_1"
   ]
  },
  {
   "cell_type": "code",
   "execution_count": 36,
   "id": "1e1e2a26-cef4-45fb-bcc2-4fec50a0cd27",
   "metadata": {},
   "outputs": [
    {
     "data": {
      "text/plain": [
       "bool"
      ]
     },
     "execution_count": 36,
     "metadata": {},
     "output_type": "execute_result"
    }
   ],
   "source": [
    "type(prod_3 > prod_1)"
   ]
  },
  {
   "cell_type": "code",
   "execution_count": 37,
   "id": "5d562282-3947-423f-8752-5e4b79e7f55a",
   "metadata": {},
   "outputs": [
    {
     "data": {
      "text/plain": [
       "True"
      ]
     },
     "execution_count": 37,
     "metadata": {},
     "output_type": "execute_result"
    }
   ],
   "source": [
    "prod_3 <= prod_2"
   ]
  },
  {
   "cell_type": "code",
   "execution_count": 38,
   "id": "88ec0849-f14d-44cf-96e3-b3b991080f1d",
   "metadata": {},
   "outputs": [
    {
     "data": {
      "text/plain": [
       "bool"
      ]
     },
     "execution_count": 38,
     "metadata": {},
     "output_type": "execute_result"
    }
   ],
   "source": [
    "type(prod_3 <= prod_2)"
   ]
  },
  {
   "cell_type": "markdown",
   "id": "c5b2b1ed-4d7f-4ab7-aaa4-a2854763d821",
   "metadata": {},
   "source": [
    "# Sequence Data Types"
   ]
  },
  {
   "cell_type": "markdown",
   "id": "18f743f9-f0e7-42dd-b9b5-9dc9b91c235d",
   "metadata": {},
   "source": [
    "Sequence data types are further divided in three types. \n",
    "\n",
    "- Strings\n",
    "- Lists\n",
    "- Tuples"
   ]
  },
  {
   "cell_type": "markdown",
   "id": "b6a1b458-66f9-40ae-88ba-15ede3f175ea",
   "metadata": {},
   "source": [
    "- **Strings**\n",
    "\n",
    "When we use strings we put them in single, double or in triple quotes called **multiline** because we can write on multiple lines."
   ]
  },
  {
   "cell_type": "code",
   "execution_count": 41,
   "id": "f303d4f7-eee8-4222-985b-e8bbbca5cab0",
   "metadata": {},
   "outputs": [
    {
     "data": {
      "text/plain": [
       "'Single Quotes'"
      ]
     },
     "execution_count": 41,
     "metadata": {},
     "output_type": "execute_result"
    }
   ],
   "source": [
    "'Single Quotes'"
   ]
  },
  {
   "cell_type": "code",
   "execution_count": 42,
   "id": "2e00bd30-bda3-4709-90a7-6c0e2006a052",
   "metadata": {},
   "outputs": [
    {
     "data": {
      "text/plain": [
       "str"
      ]
     },
     "execution_count": 42,
     "metadata": {},
     "output_type": "execute_result"
    }
   ],
   "source": [
    "type('Single Quotes')"
   ]
  },
  {
   "cell_type": "code",
   "execution_count": 43,
   "id": "b40be26b-dc75-4b1b-8bff-4d81e7fb082a",
   "metadata": {},
   "outputs": [
    {
     "data": {
      "text/plain": [
       "'Double Quotes'"
      ]
     },
     "execution_count": 43,
     "metadata": {},
     "output_type": "execute_result"
    }
   ],
   "source": [
    "\"Double Quotes\""
   ]
  },
  {
   "cell_type": "code",
   "execution_count": 44,
   "id": "d0086ce4-9319-4603-9471-e0e1cc330ddc",
   "metadata": {},
   "outputs": [
    {
     "data": {
      "text/plain": [
       "str"
      ]
     },
     "execution_count": 44,
     "metadata": {},
     "output_type": "execute_result"
    }
   ],
   "source": [
    "type(\"Double Quotes\")"
   ]
  },
  {
   "cell_type": "code",
   "execution_count": 45,
   "id": "7f2fa6f9-5ee8-4d81-800b-8248a429334a",
   "metadata": {},
   "outputs": [],
   "source": [
    "multi_line = \"\"\"\n",
    "When you are feeling the pain,\n",
    "you can walk in the rain,\n",
    "if it is winter it will not go in vain.\n",
    "\"\"\""
   ]
  },
  {
   "cell_type": "code",
   "execution_count": 46,
   "id": "4e107c98-e991-4d05-b9fd-0dc4dd356470",
   "metadata": {},
   "outputs": [
    {
     "name": "stdout",
     "output_type": "stream",
     "text": [
      "\n",
      "When you are feeling the pain,\n",
      "you can walk in the rain,\n",
      "if it is winter it will not go in vain.\n",
      "\n"
     ]
    }
   ],
   "source": [
    "print(multi_line)"
   ]
  },
  {
   "cell_type": "code",
   "execution_count": 47,
   "id": "7c7b0f73-a231-4dba-9981-12fbdbbad21f",
   "metadata": {},
   "outputs": [
    {
     "data": {
      "text/plain": [
       "str"
      ]
     },
     "execution_count": 47,
     "metadata": {},
     "output_type": "execute_result"
    }
   ],
   "source": [
    "type(multi_line)"
   ]
  },
  {
   "cell_type": "markdown",
   "id": "cc9f36fe-fa04-4e28-aaf3-d4e72cfac735",
   "metadata": {},
   "source": [
    "We can not use a single quote within single quotes and a double quote within double quotes "
   ]
  },
  {
   "cell_type": "code",
   "execution_count": 49,
   "id": "08200183-34aa-4191-8c7c-731323977b78",
   "metadata": {},
   "outputs": [
    {
     "ename": "SyntaxError",
     "evalue": "unterminated string literal (detected at line 1) (2553047763.py, line 1)",
     "output_type": "error",
     "traceback": [
      "\u001b[1;36m  Cell \u001b[1;32mIn[49], line 1\u001b[1;36m\u001b[0m\n\u001b[1;33m    'I don't have time today'  # To negate this error we will use Double Quotes if we have a single quote in our values\u001b[0m\n\u001b[1;37m                            ^\u001b[0m\n\u001b[1;31mSyntaxError\u001b[0m\u001b[1;31m:\u001b[0m unterminated string literal (detected at line 1)\n"
     ]
    }
   ],
   "source": [
    "'I don't have time today'  # To negate this error we will use Double Quotes if we have a single quote in our values"
   ]
  },
  {
   "cell_type": "code",
   "execution_count": null,
   "id": "75229736-13ea-4597-a5b9-2e82f1f295d9",
   "metadata": {},
   "outputs": [],
   "source": [
    "\"I don't have time today\""
   ]
  },
  {
   "cell_type": "code",
   "execution_count": null,
   "id": "5c84f118-1945-4478-bb36-c18774f2d765",
   "metadata": {},
   "outputs": [],
   "source": [
    "\" I don't have \"time\" today\" # This will also not work if we have double quotes in our values we will use Triple Quotes"
   ]
  },
  {
   "cell_type": "code",
   "execution_count": null,
   "id": "72d457e4-f2f5-4edc-a844-3d8a80b33c68",
   "metadata": {},
   "outputs": [],
   "source": [
    "x = \"\"\" I don't have \"time\" today \"\"\""
   ]
  },
  {
   "cell_type": "code",
   "execution_count": null,
   "id": "be9da2f2-bb2a-4074-ae50-f3b9fe753920",
   "metadata": {},
   "outputs": [],
   "source": [
    "print(x)"
   ]
  },
  {
   "cell_type": "markdown",
   "id": "82df67ba-7ad0-4118-9a75-117b9aa27e67",
   "metadata": {},
   "source": [
    "Strings can be **INDEXED**, meaning that we can search within a string. Index always starts at **zero**."
   ]
  },
  {
   "cell_type": "code",
   "execution_count": 87,
   "id": "f3d36989-063c-44ef-94b7-9eeb2e9f22dd",
   "metadata": {},
   "outputs": [],
   "source": [
    "x = 'Zohaib Ahmed'"
   ]
  },
  {
   "cell_type": "code",
   "execution_count": 89,
   "id": "1706c981-90ba-4c8f-a824-2629aa0610ac",
   "metadata": {},
   "outputs": [
    {
     "name": "stdout",
     "output_type": "stream",
     "text": [
      "Zoha\n"
     ]
    }
   ],
   "source": [
    "print(x[:4]) #To print 4 characters "
   ]
  },
  {
   "cell_type": "code",
   "execution_count": 91,
   "id": "8c63e047-8965-4968-a6b8-67a4c338bf39",
   "metadata": {},
   "outputs": [
    {
     "name": "stdout",
     "output_type": "stream",
     "text": [
      "Zohaib A\n"
     ]
    }
   ],
   "source": [
    "print(x[:8]) # Extracting 8 characters"
   ]
  },
  {
   "cell_type": "markdown",
   "id": "a5eb3e0c-9b32-4a6f-9a8f-bb8ce3ffc6d8",
   "metadata": {},
   "source": [
    "To extract a specific word or alphabet we will remove colon : and just type in the number on which our word is located."
   ]
  },
  {
   "cell_type": "code",
   "execution_count": 97,
   "id": "84aea0d5-1610-4513-b37d-03fc2d1e5dcb",
   "metadata": {},
   "outputs": [
    {
     "name": "stdout",
     "output_type": "stream",
     "text": [
      "A\n"
     ]
    }
   ],
   "source": [
    "print(x[7])"
   ]
  },
  {
   "cell_type": "markdown",
   "id": "06f7eb9c-7364-4d71-8d4d-04c868a92e5a",
   "metadata": {},
   "source": [
    "To extract something starting from the end of the string we will use negative sign with the number. For instance, **-3**"
   ]
  },
  {
   "cell_type": "code",
   "execution_count": 101,
   "id": "d3f03589-241d-45e3-b032-c26b107cbe0a",
   "metadata": {},
   "outputs": [
    {
     "name": "stdout",
     "output_type": "stream",
     "text": [
      "m\n"
     ]
    }
   ],
   "source": [
    "print(x[-3])"
   ]
  },
  {
   "cell_type": "markdown",
   "id": "72927afc-f38a-427f-b563-7376ea46e548",
   "metadata": {},
   "source": [
    "To avoid specified zero at start we can use a **range** to extract something from middle of the string. Such as [2:3]"
   ]
  },
  {
   "cell_type": "code",
   "execution_count": 104,
   "id": "88634c0c-8730-4927-8bc0-3b9b97256984",
   "metadata": {},
   "outputs": [
    {
     "name": "stdout",
     "output_type": "stream",
     "text": [
      "aib\n"
     ]
    }
   ],
   "source": [
    "print(x[3:6])"
   ]
  },
  {
   "cell_type": "markdown",
   "id": "f0190498-6c29-4422-9551-bcea439f3485",
   "metadata": {},
   "source": [
    "We can multiply and add a string with a number. "
   ]
  },
  {
   "cell_type": "code",
   "execution_count": 106,
   "id": "653e776a-25e9-4e16-b349-00d5c5331519",
   "metadata": {},
   "outputs": [
    {
     "data": {
      "text/plain": [
       "'Zohaib AhmedZohaib AhmedZohaib Ahmed'"
      ]
     },
     "execution_count": 106,
     "metadata": {},
     "output_type": "execute_result"
    }
   ],
   "source": [
    "x * 3"
   ]
  },
  {
   "cell_type": "code",
   "execution_count": 108,
   "id": "5b7118bc-037b-4779-9518-e0bb3c75f4c5",
   "metadata": {},
   "outputs": [
    {
     "data": {
      "text/plain": [
       "'Zohaib AhmedZohaib Ahmed'"
      ]
     },
     "execution_count": 108,
     "metadata": {},
     "output_type": "execute_result"
    }
   ],
   "source": [
    "x + x"
   ]
  },
  {
   "cell_type": "markdown",
   "id": "413d99c9-fd02-4df3-b859-efe37d572a6e",
   "metadata": {},
   "source": [
    "- **Lists**\n",
    "\n",
    "Lists are fantastic because we can store multiple values in a list. We seperate values in a list using a comma.\n",
    "\n",
    "We can add any type of values in a list and we can even add a list within a list, basically a **nested list**. \n",
    "\n",
    "To create a list we put brackets **[]** around our values. \n",
    "\n",
    "Lists are changeable meaning that we can **add**, **remove** or **update** objects in **lists**."
   ]
  },
  {
   "cell_type": "code",
   "execution_count": 112,
   "id": "1f89ef91-6992-4198-9ede-1838d0233cff",
   "metadata": {},
   "outputs": [
    {
     "data": {
      "text/plain": [
       "[1, 2, 3]"
      ]
     },
     "execution_count": 112,
     "metadata": {},
     "output_type": "execute_result"
    }
   ],
   "source": [
    "[1,2,3]"
   ]
  },
  {
   "cell_type": "code",
   "execution_count": 114,
   "id": "b04ac3ab-a236-40e0-9240-9d2eeaa72cfd",
   "metadata": {},
   "outputs": [
    {
     "data": {
      "text/plain": [
       "['Pirates of the Carrabian: The Curse of the Black Pearl',\n",
       " 'Fury',\n",
       " 'The Outlaw King']"
      ]
     },
     "execution_count": 114,
     "metadata": {},
     "output_type": "execute_result"
    }
   ],
   "source": [
    "['Pirates of the Carrabian: The Curse of the Black Pearl', 'Fury', 'The Outlaw King']"
   ]
  },
  {
   "cell_type": "code",
   "execution_count": 116,
   "id": "88fb47cd-2b6b-40a6-9fdf-c3aeef7f2787",
   "metadata": {},
   "outputs": [
    {
     "data": {
      "text/plain": [
       "['Eggs',\n",
       " 'Butter',\n",
       " 'Cookies',\n",
       " 20,\n",
       " ['Chocolate', 'Candy', 'Ice cream'],\n",
       " False,\n",
       " True]"
      ]
     },
     "execution_count": 116,
     "metadata": {},
     "output_type": "execute_result"
    }
   ],
   "source": [
    "['Eggs', 'Butter', 'Cookies', 20, ['Chocolate','Candy','Ice cream'], 10>20, True]"
   ]
  },
  {
   "cell_type": "markdown",
   "id": "b0f440c3-36b7-4d82-aa69-293479277e62",
   "metadata": {},
   "source": [
    "We can add items to a list using **append function**. It will append new items to the end of the list.\n",
    "\n",
    "We can have only **one** argument in append function meaning that we can add one item in one append function."
   ]
  },
  {
   "cell_type": "code",
   "execution_count": 119,
   "id": "8af42937-c129-4856-aa62-27c2b1bb97f6",
   "metadata": {},
   "outputs": [],
   "source": [
    "favourite_movies = ['Pirates of the Carrabian: The Curse of the Black Pearl', 'Fury', 'The Outlaw King']\n",
    "\n",
    "favourite_movies.append('A Beautiful Mind')"
   ]
  },
  {
   "cell_type": "code",
   "execution_count": 121,
   "id": "e3d6e666-9e9b-4fa6-8525-bdd6c0e694d7",
   "metadata": {},
   "outputs": [],
   "source": [
    "favourite_movies.append('Furiousa')"
   ]
  },
  {
   "cell_type": "code",
   "execution_count": 123,
   "id": "78d01223-ff07-4c17-be3e-76be22d360ab",
   "metadata": {},
   "outputs": [
    {
     "name": "stdout",
     "output_type": "stream",
     "text": [
      "['Pirates of the Carrabian: The Curse of the Black Pearl', 'Fury', 'The Outlaw King', 'A Beautiful Mind', 'Furiousa']\n"
     ]
    }
   ],
   "source": [
    "print(favourite_movies)"
   ]
  },
  {
   "cell_type": "code",
   "execution_count": 125,
   "id": "f68ec024-0be7-4982-8e46-db6a9ff4e9e0",
   "metadata": {},
   "outputs": [
    {
     "data": {
      "text/plain": [
       "list"
      ]
     },
     "execution_count": 125,
     "metadata": {},
     "output_type": "execute_result"
    }
   ],
   "source": [
    "type(favourite_movies)"
   ]
  },
  {
   "cell_type": "markdown",
   "id": "09e9b8fb-e66c-4b1a-b110-6daeb5ed1215",
   "metadata": {},
   "source": [
    "**To change existing values with new values in a list**. We will type in **list name** then in square brackets **[ ]** the **index number** of the value that we want to change. Followed by equal to sign **=** and then a **new value** within parenthesis **( )** and qoutes **' '**. \n",
    "\n",
    "list_name[index number of a value] = ('new value')"
   ]
  },
  {
   "cell_type": "code",
   "execution_count": 132,
   "id": "adda9271-3809-4479-a79c-2076baf1f228",
   "metadata": {},
   "outputs": [],
   "source": [
    "favourite_movies[2] = ('Interstellar')"
   ]
  },
  {
   "cell_type": "code",
   "execution_count": 134,
   "id": "4c00b30c-3a46-423c-9151-c7051cb3fe66",
   "metadata": {},
   "outputs": [],
   "source": [
    "favourite_movies[3] = ('The Revenant')"
   ]
  },
  {
   "cell_type": "code",
   "execution_count": 136,
   "id": "32538c2d-8cbb-41e8-9716-33b2812ae16d",
   "metadata": {},
   "outputs": [
    {
     "name": "stdout",
     "output_type": "stream",
     "text": [
      "['Pirates of the Carrabian: The Curse of the Black Pearl', 'Fury', 'Interstellar', 'The Revenant', 'Furiousa']\n"
     ]
    }
   ],
   "source": [
    "print(favourite_movies)"
   ]
  },
  {
   "cell_type": "markdown",
   "id": "1058058a-de9a-4e53-a5a5-7610c0d662ed",
   "metadata": {},
   "source": [
    "We can have a list within a list, basically a **nested list**."
   ]
  },
  {
   "cell_type": "code",
   "execution_count": 139,
   "id": "4cd2f3d7-191c-41b1-8da9-becd3477c866",
   "metadata": {},
   "outputs": [],
   "source": [
    "nested_list = ['Eggs', 'Butter', 'Cookies', 20, ['Chocolate','Candy','Ice cream'], 10>20, True]"
   ]
  },
  {
   "cell_type": "code",
   "execution_count": 141,
   "id": "2d8a9c4e-0361-445c-b93c-d173e704c92e",
   "metadata": {},
   "outputs": [
    {
     "data": {
      "text/plain": [
       "'Eggs'"
      ]
     },
     "execution_count": 141,
     "metadata": {},
     "output_type": "execute_result"
    }
   ],
   "source": [
    "nested_list[0]"
   ]
  },
  {
   "cell_type": "markdown",
   "id": "adca1edc-ac3a-4ba2-a058-310ef2315412",
   "metadata": {},
   "source": [
    "We can have lists within lists and all of them will have indexing that we can call. \n",
    "\n",
    "Now we can call nested list using index number **4** and then call any value from that list using index number of nested list such as Candy at number **1** because index starts at zero."
   ]
  },
  {
   "cell_type": "code",
   "execution_count": 145,
   "id": "0f49b845-9078-4709-8494-ee799dd9bf25",
   "metadata": {},
   "outputs": [
    {
     "data": {
      "text/plain": [
       "'Candy'"
      ]
     },
     "execution_count": 145,
     "metadata": {},
     "output_type": "execute_result"
    }
   ],
   "source": [
    "nested_list[4][1]"
   ]
  },
  {
   "cell_type": "markdown",
   "id": "db52c496-ff9f-47e4-ac15-0e0c008ca929",
   "metadata": {},
   "source": [
    "- **Tuples**"
   ]
  },
  {
   "cell_type": "markdown",
   "id": "e3d620e5-db4c-4259-a89e-bf9eaa387d08",
   "metadata": {},
   "source": [
    "Tuples are **immutables** meaning that they cannot be changed once created.\n",
    "\n",
    "Typically we will use Tuples when data is never going to be changed. For example, a ciyt name, country or location etc.\n",
    "\n",
    "We put parenthesis **()** around values in a tuple and we can also index a tuple but **we cannot change a tuple**. "
   ]
  },
  {
   "cell_type": "code",
   "execution_count": 149,
   "id": "05dc1d08-2363-41a0-8624-ef0f3ab6d93c",
   "metadata": {},
   "outputs": [],
   "source": [
    "first_tuple = (1,2,3,4,2,1)"
   ]
  },
  {
   "cell_type": "code",
   "execution_count": 151,
   "id": "9117cd16-3461-4ff9-ace3-96e04ed7440b",
   "metadata": {},
   "outputs": [
    {
     "data": {
      "text/plain": [
       "tuple"
      ]
     },
     "execution_count": 151,
     "metadata": {},
     "output_type": "execute_result"
    }
   ],
   "source": [
    "type(first_tuple)"
   ]
  },
  {
   "cell_type": "markdown",
   "id": "17ad7933-80c5-47f0-8041-3abc9b328d18",
   "metadata": {},
   "source": [
    "**Indexing a tuple**"
   ]
  },
  {
   "cell_type": "code",
   "execution_count": 155,
   "id": "4a8f7bcf-cd7e-4480-a8d3-e67f4bca069e",
   "metadata": {},
   "outputs": [
    {
     "data": {
      "text/plain": [
       "4"
      ]
     },
     "execution_count": 155,
     "metadata": {},
     "output_type": "execute_result"
    }
   ],
   "source": [
    "first_tuple[3]"
   ]
  },
  {
   "cell_type": "markdown",
   "id": "c1a2c0c6-1fff-4a8c-adce-4c1f253bfe35",
   "metadata": {},
   "source": [
    "**NOTE:** We cannot use functions like append, del or update on tuples."
   ]
  },
  {
   "cell_type": "markdown",
   "id": "c3ea5556-cd6a-46e4-b22a-eb4ed2569590",
   "metadata": {},
   "source": [
    "# Sets"
   ]
  },
  {
   "cell_type": "markdown",
   "id": "9fe5c4a6-04e4-431d-8c05-afd9c87c21d0",
   "metadata": {},
   "source": [
    "Sets are somewhat similar to lists and tuples but, they are slightly different in a way that they **don't have duplicate values**.\n",
    "\n",
    "Another big difference is that values in **a Set cannot be accessed using Index** because sets don't have index as they are unordered.\n",
    "\n",
    "We can loop through sets such as For Loop.\n",
    "\n",
    "We put Curly brackets **{ }** around values and seperate them using a **comma**"
   ]
  },
  {
   "cell_type": "code",
   "execution_count": 179,
   "id": "27732912-6316-4dd6-9fd0-13692a002e99",
   "metadata": {},
   "outputs": [],
   "source": [
    "first_set = {1,2,3}"
   ]
  },
  {
   "cell_type": "code",
   "execution_count": 181,
   "id": "fbaf9c3a-ace8-4f9e-bdee-257ba15009a6",
   "metadata": {},
   "outputs": [
    {
     "name": "stdout",
     "output_type": "stream",
     "text": [
      "{1, 2, 3}\n"
     ]
    }
   ],
   "source": [
    "print(first_set)"
   ]
  },
  {
   "cell_type": "code",
   "execution_count": 183,
   "id": "1bafd973-7111-4a20-a537-e5cfceedbb51",
   "metadata": {},
   "outputs": [
    {
     "data": {
      "text/plain": [
       "set"
      ]
     },
     "execution_count": 183,
     "metadata": {},
     "output_type": "execute_result"
    }
   ],
   "source": [
    "type(first_set)"
   ]
  },
  {
   "cell_type": "markdown",
   "id": "f50cf731-c123-4e4d-8d76-20f19f6ecffb",
   "metadata": {},
   "source": [
    "In real world a use case of **sets** for us may be comparing two sets together. "
   ]
  },
  {
   "cell_type": "code",
   "execution_count": 186,
   "id": "b6161df1-7540-4e94-875f-05d1e20b52d0",
   "metadata": {},
   "outputs": [],
   "source": [
    "my_weekly_tasks = {1,2,3,12,1,2,3,4,5,8,9}"
   ]
  },
  {
   "cell_type": "markdown",
   "id": "383d07b3-bb54-49f0-8ae4-38872fe3187f",
   "metadata": {},
   "source": [
    "When we print my_weekly_tasks set it will just display unique values because **sets don't have duplicate values**."
   ]
  },
  {
   "cell_type": "code",
   "execution_count": 189,
   "id": "41065978-ee2f-49f7-b1bf-12e374c3da3d",
   "metadata": {},
   "outputs": [
    {
     "name": "stdout",
     "output_type": "stream",
     "text": [
      "{1, 2, 3, 4, 5, 8, 9, 12}\n"
     ]
    }
   ],
   "source": [
    "print(my_weekly_tasks)"
   ]
  },
  {
   "cell_type": "code",
   "execution_count": 191,
   "id": "034ef899-f353-4ba8-840d-8baa1aacdbbf",
   "metadata": {},
   "outputs": [],
   "source": [
    "my_colge_tasks = {1,2,3,18,2,3,5,6,7,8,10}"
   ]
  },
  {
   "cell_type": "markdown",
   "id": "489d2e8e-4945-440e-8b58-6ad49e9a4474",
   "metadata": {},
   "source": [
    "We have two Sets containing my and my collegue's weekly tasks. Now we will compare these sets \n",
    "\n",
    "For first comparison we will use a BAR **|** in print statement and it will give us unique values from both sets.\n",
    "\n",
    "Its like putting everything in one set and then trimming down them to unique values."
   ]
  },
  {
   "cell_type": "code",
   "execution_count": 201,
   "id": "499651f9-5534-49d7-b73e-26daacdd8972",
   "metadata": {},
   "outputs": [
    {
     "name": "stdout",
     "output_type": "stream",
     "text": [
      "{1, 2, 3, 4, 5, 6, 7, 8, 9, 10, 12, 18}\n"
     ]
    }
   ],
   "source": [
    "print(my_weekly_tasks | my_colge_tasks)"
   ]
  },
  {
   "cell_type": "markdown",
   "id": "3a263ae2-8584-440c-a0d7-7916b46050d5",
   "metadata": {},
   "source": [
    "To extract matches from both sets we will use ampersand sign **&**. It will display values which showed up in both sets."
   ]
  },
  {
   "cell_type": "code",
   "execution_count": 205,
   "id": "062d2b4b-8ff3-46a9-bddb-2a7ab6dd422e",
   "metadata": {},
   "outputs": [
    {
     "name": "stdout",
     "output_type": "stream",
     "text": [
      "{1, 2, 3, 5, 8}\n"
     ]
    }
   ],
   "source": [
    "print(my_weekly_tasks & my_colge_tasks)"
   ]
  },
  {
   "cell_type": "markdown",
   "id": "cdee721f-9964-4d19-9a72-df595b7075ff",
   "metadata": {},
   "source": [
    "To do opposite of matches we will use minus sign **-**"
   ]
  },
  {
   "cell_type": "code",
   "execution_count": 208,
   "id": "691c63ee-cb3c-49ad-9ca4-96ca564b6460",
   "metadata": {},
   "outputs": [
    {
     "name": "stdout",
     "output_type": "stream",
     "text": [
      "{9, 4, 12}\n"
     ]
    }
   ],
   "source": [
    "print(my_weekly_tasks - my_colge_tasks)"
   ]
  },
  {
   "cell_type": "code",
   "execution_count": 210,
   "id": "a354b031-2e86-434b-9d05-3cefaf2c23d7",
   "metadata": {},
   "outputs": [
    {
     "name": "stdout",
     "output_type": "stream",
     "text": [
      "{10, 18, 6, 7}\n"
     ]
    }
   ],
   "source": [
    "print(my_colge_tasks - my_weekly_tasks)"
   ]
  },
  {
   "cell_type": "markdown",
   "id": "d079aafc-20d3-4398-81d2-1a50fa705d92",
   "metadata": {},
   "source": [
    "For our last comparison we will use **caret ^** sign and it will show if a value is in one or another set but not in both.\n",
    "\n",
    "And these values will be completely unique only to each of those sets."
   ]
  },
  {
   "cell_type": "code",
   "execution_count": 212,
   "id": "4658cabb-036d-43ea-a3f9-e41eb8e7f73c",
   "metadata": {},
   "outputs": [
    {
     "name": "stdout",
     "output_type": "stream",
     "text": [
      "{4, 6, 7, 9, 10, 12, 18}\n"
     ]
    }
   ],
   "source": [
    "print(my_weekly_tasks ^ my_colge_tasks)"
   ]
  },
  {
   "cell_type": "markdown",
   "id": "ee3462c1-3e1c-40d2-a514-4f0ab83713ca",
   "metadata": {},
   "source": [
    "# Dictionaries"
   ]
  },
  {
   "cell_type": "markdown",
   "id": "30170e07-9c44-4193-917d-a27c55dcd999",
   "metadata": {},
   "source": [
    "Dictionary is the most different data type in python. Dictionary uses **KEY | VALUE pair**.\n",
    "\n",
    "Instead of using comma to seperate values in Dictionary we have a Key that indicates what that value is attributed to?\n",
    "\n",
    "We put curly brakets around Key/Value pairs. We can add lists to a dictionary as well.\n",
    "\n",
    "We make Key/Value pair using a colon **:** sign. For instance, 'city':'London' then type a comma to add other pairs."
   ]
  },
  {
   "cell_type": "code",
   "execution_count": 217,
   "id": "9b51494d-09ed-4711-838f-9daf4ce192d3",
   "metadata": {},
   "outputs": [],
   "source": [
    "movies_dict = {'Name': 'Zohaib Ahmed', 'Movies': 4, 'Fav_movies': ['Fury', 'Interstellar', 'Troy']}"
   ]
  },
  {
   "cell_type": "code",
   "execution_count": 219,
   "id": "8f3b1ffb-b0f2-4abb-a41b-791bc21c25b8",
   "metadata": {},
   "outputs": [
    {
     "name": "stdout",
     "output_type": "stream",
     "text": [
      "{'Name': 'Zohaib Ahmed', 'Movies': 4, 'Fav_movies': ['Fury', 'Interstellar', 'Troy']}\n"
     ]
    }
   ],
   "source": [
    "print(movies_dict)"
   ]
  },
  {
   "cell_type": "code",
   "execution_count": 221,
   "id": "1f654850-178a-4102-a701-47db10af1f82",
   "metadata": {},
   "outputs": [
    {
     "data": {
      "text/plain": [
       "dict"
      ]
     },
     "execution_count": 221,
     "metadata": {},
     "output_type": "execute_result"
    }
   ],
   "source": [
    "type(movies_dict)"
   ]
  },
  {
   "cell_type": "markdown",
   "id": "4f4b6a37-4d89-49ff-a324-374796b09f2a",
   "metadata": {},
   "source": [
    "To show all the values in our dictionary"
   ]
  },
  {
   "cell_type": "code",
   "execution_count": 225,
   "id": "a7bec4c1-ce59-425b-835b-7220f8bb9568",
   "metadata": {},
   "outputs": [
    {
     "data": {
      "text/plain": [
       "dict_values(['Zohaib Ahmed', 4, ['Fury', 'Interstellar', 'Troy']])"
      ]
     },
     "execution_count": 225,
     "metadata": {},
     "output_type": "execute_result"
    }
   ],
   "source": [
    "movies_dict.values()"
   ]
  },
  {
   "cell_type": "markdown",
   "id": "89d88813-4209-457b-8e53-0019ec3bff20",
   "metadata": {},
   "source": [
    "To print all the Keys in our dictionary"
   ]
  },
  {
   "cell_type": "code",
   "execution_count": 227,
   "id": "f1e32d7d-dba1-49eb-bd4e-55f0340cdef0",
   "metadata": {},
   "outputs": [
    {
     "data": {
      "text/plain": [
       "dict_keys(['Name', 'Movies', 'Fav_movies'])"
      ]
     },
     "execution_count": 227,
     "metadata": {},
     "output_type": "execute_result"
    }
   ],
   "source": [
    "movies_dict.keys()"
   ]
  },
  {
   "cell_type": "markdown",
   "id": "621fc677-9351-47ad-9df6-77f625c28ce7",
   "metadata": {},
   "source": [
    "A pair of Key and Value is called **item**. For instance, 'Name':'Zohaib Ahmed'"
   ]
  },
  {
   "cell_type": "code",
   "execution_count": 230,
   "id": "999832d1-0f56-4c66-8d10-665fc6f857e8",
   "metadata": {},
   "outputs": [
    {
     "data": {
      "text/plain": [
       "dict_items([('Name', 'Zohaib Ahmed'), ('Movies', 4), ('Fav_movies', ['Fury', 'Interstellar', 'Troy'])])"
      ]
     },
     "execution_count": 230,
     "metadata": {},
     "output_type": "execute_result"
    }
   ],
   "source": [
    "movies_dict.items()"
   ]
  },
  {
   "cell_type": "markdown",
   "id": "0fa895e2-c43b-45ad-9c6e-c6de6242e116",
   "metadata": {},
   "source": [
    "One difference between a List and a Dictionary is how we call the index? **Dictionary doesn't have index technically**.\n",
    "We use a **KEY to call a dictionary** so we can specify what we want to call and take it out from a dictionary. "
   ]
  },
  {
   "cell_type": "code",
   "execution_count": 233,
   "id": "2f0b0fa6-8786-424b-95b3-20d437646d97",
   "metadata": {},
   "outputs": [
    {
     "data": {
      "text/plain": [
       "'Zohaib Ahmed'"
      ]
     },
     "execution_count": 233,
     "metadata": {},
     "output_type": "execute_result"
    }
   ],
   "source": [
    "movies_dict['Name']"
   ]
  },
  {
   "cell_type": "markdown",
   "id": "d85313d8-2a73-4b8b-820f-ed1b8b4d2533",
   "metadata": {},
   "source": [
    "**Updating information ia a dictionary**. \n",
    "\n",
    "We can change the Value of any Key in a dictionary.\n",
    "\n",
    "Let's change the 'Name' from 'Zohaib Ahmed' to 'Mohaib Ahmed'"
   ]
  },
  {
   "cell_type": "code",
   "execution_count": 235,
   "id": "3fcc5321-e2ca-4aa7-9b40-492565f7470b",
   "metadata": {},
   "outputs": [
    {
     "name": "stdout",
     "output_type": "stream",
     "text": [
      "{'Name': 'Mohaib Ahmed', 'Movies': 4, 'Fav_movies': ['Fury', 'Interstellar', 'Troy']}\n"
     ]
    }
   ],
   "source": [
    "movies_dict['Name'] = 'Mohaib Ahmed'\n",
    "\n",
    "print(movies_dict)"
   ]
  },
  {
   "cell_type": "markdown",
   "id": "e3fc241c-4003-461c-80e4-cbc7a09a3158",
   "metadata": {},
   "source": [
    "To Update everything at once we will use **UPDATE function**. We can not only add new pairs but also change existing values.\n",
    "\n",
    "It will add new key/value pairs without deleting old pairs. To delete values we use delete function."
   ]
  },
  {
   "cell_type": "code",
   "execution_count": 239,
   "id": "e9c312db-0c7c-4a4b-b34e-1e81c96e5435",
   "metadata": {},
   "outputs": [],
   "source": [
    "movies_dict.update({'Name': 'Zohaib Ahmed', 'Movies': 5, 'Monthly_Cost': 600})"
   ]
  },
  {
   "cell_type": "code",
   "execution_count": 241,
   "id": "ab1c93bd-6727-4a94-8118-16de13437dfe",
   "metadata": {},
   "outputs": [
    {
     "name": "stdout",
     "output_type": "stream",
     "text": [
      "{'Name': 'Zohaib Ahmed', 'Movies': 5, 'Fav_movies': ['Fury', 'Interstellar', 'Troy'], 'Monthly_Cost': 600}\n"
     ]
    }
   ],
   "source": [
    "print(movies_dict)"
   ]
  },
  {
   "cell_type": "markdown",
   "id": "6fc91138-59c4-40ea-a39b-da46a1ca9254",
   "metadata": {},
   "source": [
    "To delete key/value pairs we need to use **DEL function**.\n",
    "Update function only adds new key/value pairs and change existing values. Let's **delete Monthly_Cost key** and its value 600."
   ]
  },
  {
   "cell_type": "code",
   "execution_count": 244,
   "id": "dce2961e-2b3f-4dcf-8251-04c4a7033156",
   "metadata": {},
   "outputs": [],
   "source": [
    "del movies_dict['Monthly_Cost']"
   ]
  },
  {
   "cell_type": "code",
   "execution_count": 246,
   "id": "fec58ce9-8194-4f7f-b14c-a5808f3b5eed",
   "metadata": {},
   "outputs": [
    {
     "name": "stdout",
     "output_type": "stream",
     "text": [
      "{'Name': 'Zohaib Ahmed', 'Movies': 5, 'Fav_movies': ['Fury', 'Interstellar', 'Troy']}\n"
     ]
    }
   ],
   "source": [
    "print(movies_dict)"
   ]
  },
  {
   "cell_type": "code",
   "execution_count": null,
   "id": "6c5af133-4d20-43c0-8885-17d5e2a92d7e",
   "metadata": {},
   "outputs": [],
   "source": []
  },
  {
   "cell_type": "code",
   "execution_count": null,
   "id": "c43e15bd-383a-4fcc-97b0-c77bcf391545",
   "metadata": {},
   "outputs": [],
   "source": []
  }
 ],
 "metadata": {
  "kernelspec": {
   "display_name": "Python [conda env:base] *",
   "language": "python",
   "name": "conda-base-py"
  },
  "language_info": {
   "codemirror_mode": {
    "name": "ipython",
    "version": 3
   },
   "file_extension": ".py",
   "mimetype": "text/x-python",
   "name": "python",
   "nbconvert_exporter": "python",
   "pygments_lexer": "ipython3",
   "version": "3.12.7"
  }
 },
 "nbformat": 4,
 "nbformat_minor": 5
}
