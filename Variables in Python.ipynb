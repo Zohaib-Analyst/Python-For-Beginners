{
 "cells": [
  {
   "cell_type": "markdown",
   "id": "d6017f31-f320-49d2-8a8c-c0e3d8f7ea7e",
   "metadata": {},
   "source": [
    "# Variables in Python"
   ]
  },
  {
   "cell_type": "markdown",
   "id": "3941ca78-fe44-4e0b-8a3a-689de91fc375",
   "metadata": {},
   "source": [
    "A **vaiable** is basically a container for storing data values. \n",
    "So we will take a value like a number or a string and assigned it to a variable then variable will carry and contain it.\n",
    "\n",
    "For instance, x = 20 where x is a variable and we assigned a value of 20 to it. \n",
    "Now we don't have to write 20 in our scripts that we write later, we can just say x because x is now equal to 20. "
   ]
  },
  {
   "cell_type": "code",
   "execution_count": 5,
   "id": "0928e3c2-925a-4daf-8935-f0bf6da7b0f0",
   "metadata": {},
   "outputs": [],
   "source": [
    "x = 20"
   ]
  },
  {
   "cell_type": "code",
   "execution_count": 7,
   "id": "f2a96d24-131e-41f0-bfdd-72e6206c2356",
   "metadata": {},
   "outputs": [
    {
     "name": "stdout",
     "output_type": "stream",
     "text": [
      "20\n"
     ]
    }
   ],
   "source": [
    "print(x)"
   ]
  },
  {
   "cell_type": "code",
   "execution_count": 9,
   "id": "287dd190-2a4b-4de0-b022-b2134aa4933d",
   "metadata": {},
   "outputs": [
    {
     "data": {
      "text/plain": [
       "int"
      ]
     },
     "execution_count": 9,
     "metadata": {},
     "output_type": "execute_result"
    }
   ],
   "source": [
    "type(x)"
   ]
  },
  {
   "cell_type": "code",
   "execution_count": 11,
   "id": "52bd0408-a590-4a21-aaca-ba1e9994adf9",
   "metadata": {},
   "outputs": [],
   "source": [
    "y = 'Cold winter nights'"
   ]
  },
  {
   "cell_type": "code",
   "execution_count": 13,
   "id": "79e7bb1e-7cf1-463a-aec5-43d665ac724f",
   "metadata": {},
   "outputs": [
    {
     "name": "stdout",
     "output_type": "stream",
     "text": [
      "Cold winter nights\n"
     ]
    }
   ],
   "source": [
    "print(y)"
   ]
  },
  {
   "cell_type": "code",
   "execution_count": 15,
   "id": "21b53eda-43b5-4190-8fc2-9343972cb9db",
   "metadata": {},
   "outputs": [
    {
     "data": {
      "text/plain": [
       "str"
      ]
     },
     "execution_count": 15,
     "metadata": {},
     "output_type": "execute_result"
    }
   ],
   "source": [
    "type(y)"
   ]
  },
  {
   "cell_type": "code",
   "execution_count": null,
   "id": "ffd2cccf-2ad0-42cf-af5f-860c03b09c2d",
   "metadata": {},
   "outputs": [],
   "source": []
  },
  {
   "cell_type": "markdown",
   "id": "7b896a24-a4ae-41ee-9b1d-f25f97703f53",
   "metadata": {},
   "source": [
    "We can overwrite previous variables"
   ]
  },
  {
   "cell_type": "code",
   "execution_count": 27,
   "id": "76410e13-4502-4d5e-a982-5b4f09e81b24",
   "metadata": {},
   "outputs": [
    {
     "name": "stdout",
     "output_type": "stream",
     "text": [
      "Cold winter nights\n"
     ]
    }
   ],
   "source": [
    "y = 'Hot summer night'\n",
    "\n",
    "y = 'Cold winter nights'\n",
    "\n",
    "print(y)"
   ]
  },
  {
   "cell_type": "code",
   "execution_count": null,
   "id": "f6569d78-ace5-47da-8759-9a535fd86183",
   "metadata": {},
   "outputs": [],
   "source": []
  },
  {
   "cell_type": "markdown",
   "id": "5ced9688-f7c0-4f89-9afc-d8a87e245fbd",
   "metadata": {},
   "source": [
    "Variable are Case sensitive"
   ]
  },
  {
   "cell_type": "code",
   "execution_count": 29,
   "id": "38ec6f09-d89b-4f7d-9640-04d41ef48f67",
   "metadata": {},
   "outputs": [],
   "source": [
    "y = 'Hot summer night'\n",
    "\n",
    "Y = 'Cold winter nights'"
   ]
  },
  {
   "cell_type": "code",
   "execution_count": 31,
   "id": "2843be04-85ed-4b96-9f4f-c80b585d84ca",
   "metadata": {},
   "outputs": [
    {
     "name": "stdout",
     "output_type": "stream",
     "text": [
      "Hot summer night\n"
     ]
    }
   ],
   "source": [
    "print(y)"
   ]
  },
  {
   "cell_type": "code",
   "execution_count": 33,
   "id": "1cd6de34-e198-47af-a4f7-ba0f51ae3698",
   "metadata": {},
   "outputs": [
    {
     "name": "stdout",
     "output_type": "stream",
     "text": [
      "Cold winter nights\n"
     ]
    }
   ],
   "source": [
    "print(Y)"
   ]
  },
  {
   "cell_type": "code",
   "execution_count": null,
   "id": "8a94b593-5ed5-478f-a2c4-a4565d8d8613",
   "metadata": {},
   "outputs": [],
   "source": []
  },
  {
   "cell_type": "markdown",
   "id": "bb425e56-1bd6-497b-91bb-b673298f354a",
   "metadata": {},
   "source": [
    "We can assign multiple values to multiple variables"
   ]
  },
  {
   "cell_type": "code",
   "execution_count": 35,
   "id": "6e48849d-d33d-4ec6-ae3e-cfab9ec51bb2",
   "metadata": {},
   "outputs": [],
   "source": [
    "x,y,z = 'Huge', 'Brown', 'Bear'"
   ]
  },
  {
   "cell_type": "code",
   "execution_count": 37,
   "id": "58563a2e-0da6-4c5c-a325-63ccd79dece6",
   "metadata": {},
   "outputs": [
    {
     "name": "stdout",
     "output_type": "stream",
     "text": [
      "Huge\n",
      "Brown\n",
      "Bear\n"
     ]
    }
   ],
   "source": [
    "print(x)\n",
    "print(y)\n",
    "print(z)"
   ]
  },
  {
   "cell_type": "code",
   "execution_count": null,
   "id": "40ad2159-7923-42c0-b348-1ac9c31c6a00",
   "metadata": {},
   "outputs": [],
   "source": []
  },
  {
   "cell_type": "markdown",
   "id": "43ffdf59-3035-45dd-b73f-20e9a59ed806",
   "metadata": {},
   "source": [
    "We can also assigning multiple variables to one value"
   ]
  },
  {
   "cell_type": "code",
   "execution_count": 39,
   "id": "ffb96580-c336-4aa6-8f4e-d485467adad3",
   "metadata": {},
   "outputs": [],
   "source": [
    "x = y = z = \"Huge Brown Bear\""
   ]
  },
  {
   "cell_type": "code",
   "execution_count": 41,
   "id": "982c4d2c-45c6-4fa2-b41a-07c1f4c1eb72",
   "metadata": {},
   "outputs": [
    {
     "name": "stdout",
     "output_type": "stream",
     "text": [
      "Huge Brown Bear\n",
      "Huge Brown Bear\n",
      "Huge Brown Bear\n"
     ]
    }
   ],
   "source": [
    "print(x)\n",
    "print(y)\n",
    "print(z)"
   ]
  },
  {
   "cell_type": "code",
   "execution_count": null,
   "id": "3dc34531-13c5-4475-8189-85521932c136",
   "metadata": {},
   "outputs": [],
   "source": []
  },
  {
   "cell_type": "markdown",
   "id": "7ebe402f-de7d-4685-811f-32d1ff9af616",
   "metadata": {},
   "source": [
    "We can assign things like Lists, Dictionaries, Tuples and Sets to variables as well. So let's create a **List**"
   ]
  },
  {
   "cell_type": "code",
   "execution_count": 49,
   "id": "d02d426e-dbfe-4a57-942d-60d7c81243e8",
   "metadata": {},
   "outputs": [],
   "source": [
    "favourite_movies = ['Interstellar', 'A Beautiful Mind', 'Troy']"
   ]
  },
  {
   "cell_type": "code",
   "execution_count": 51,
   "id": "0132905c-0197-4614-8c6c-9d498e64eb16",
   "metadata": {},
   "outputs": [],
   "source": [
    "x,y,z = favourite_movies"
   ]
  },
  {
   "cell_type": "code",
   "execution_count": 53,
   "id": "64bc6cf7-c063-4605-87ff-0e3e11f77b96",
   "metadata": {},
   "outputs": [
    {
     "name": "stdout",
     "output_type": "stream",
     "text": [
      "Interstellar\n",
      "A Beautiful Mind\n",
      "Troy\n"
     ]
    }
   ],
   "source": [
    "print(x)\n",
    "print(y)\n",
    "print(z)"
   ]
  },
  {
   "cell_type": "code",
   "execution_count": null,
   "id": "b2e5fe21-532d-49bc-a06e-712e38d16d87",
   "metadata": {},
   "outputs": [],
   "source": []
  },
  {
   "cell_type": "markdown",
   "id": "a582005e-89c8-4c87-bb75-acc71b52399c",
   "metadata": {},
   "source": [
    "**Naming Variables**\n",
    "\n",
    "We can not have a space, comma, full stop, dash, period or other signs like these between words in a variable name.\n",
    "Let's suppose we want to name a vairable **Test Variable Case**. We have three types of cases;"
   ]
  },
  {
   "cell_type": "code",
   "execution_count": null,
   "id": "49ff6ee0-9125-458a-b888-b3abf5c8f71d",
   "metadata": {},
   "outputs": [],
   "source": [
    "# 1. Camel Case \n",
    "\n",
    "# Test Variable Case\n",
    "\n",
    "testVariableCase = 'Huge Brown Bear'"
   ]
  },
  {
   "cell_type": "code",
   "execution_count": null,
   "id": "c84cd4ac-5484-4db4-8e9d-0f78a256dc5a",
   "metadata": {},
   "outputs": [],
   "source": [
    "# 2. Pascal Case \n",
    "\n",
    "# Test Variable Case\n",
    "\n",
    "TestVariableCase = 'Huge Brown Bear'"
   ]
  },
  {
   "cell_type": "code",
   "execution_count": null,
   "id": "c3c97d1c-b7ba-4056-adde-150be847c32c",
   "metadata": {},
   "outputs": [],
   "source": [
    "# 3. Snake Case \n",
    "\n",
    "# Test Variable Case\n",
    "\n",
    "test_variable_case = 'Huge Brown Bear'\n",
    "\n",
    "# Using Snake case improves readability of variables, because it seperates words using Under Score sign _ "
   ]
  },
  {
   "cell_type": "code",
   "execution_count": null,
   "id": "fec8ebdc-c643-4aa5-9b72-ddf752ec81b8",
   "metadata": {},
   "outputs": [],
   "source": []
  },
  {
   "cell_type": "markdown",
   "id": "0b863226-f99e-4ff7-8df3-45021d27c55f",
   "metadata": {},
   "source": [
    "Using Pluse sign **+** with Variables"
   ]
  },
  {
   "cell_type": "code",
   "execution_count": 71,
   "id": "64b3e771-ac0e-4abb-a789-2569a4c45652",
   "metadata": {},
   "outputs": [
    {
     "name": "stdout",
     "output_type": "stream",
     "text": [
      " I love chocolate.\n"
     ]
    }
   ],
   "source": [
    "x = ' I love chocolate' + '.'\n",
    "\n",
    "print(x)"
   ]
  },
  {
   "cell_type": "code",
   "execution_count": 73,
   "id": "2fd2f414-ba0e-43eb-b50d-d8e156897aa8",
   "metadata": {},
   "outputs": [
    {
     "name": "stdout",
     "output_type": "stream",
     "text": [
      "I love chocolate, ice cream.\n"
     ]
    }
   ],
   "source": [
    "x = 'I love chocolate' + ', ' + 'ice cream' + '.'\n",
    "\n",
    "print(x)"
   ]
  },
  {
   "cell_type": "markdown",
   "id": "4aaec7df-5946-401b-8d95-31bbdf4a0c91",
   "metadata": {},
   "source": [
    "We can not add a number to a string using plus sign, it will show us an error. However, we can add an interger to an integer."
   ]
  },
  {
   "cell_type": "code",
   "execution_count": 77,
   "id": "e75a8154-e926-4374-8633-eebf3e8a315f",
   "metadata": {},
   "outputs": [
    {
     "ename": "TypeError",
     "evalue": "can only concatenate str (not \"int\") to str",
     "output_type": "error",
     "traceback": [
      "\u001b[1;31m---------------------------------------------------------------------------\u001b[0m",
      "\u001b[1;31mTypeError\u001b[0m                                 Traceback (most recent call last)",
      "Cell \u001b[1;32mIn[77], line 3\u001b[0m\n\u001b[0;32m      1\u001b[0m \u001b[38;5;66;03m# We can not add a number to a string using plus sign, it will show us an error. \u001b[39;00m\n\u001b[1;32m----> 3\u001b[0m x \u001b[38;5;241m=\u001b[39m \u001b[38;5;124m'\u001b[39m\u001b[38;5;124mI love chocolate\u001b[39m\u001b[38;5;124m'\u001b[39m \u001b[38;5;241m+\u001b[39m \u001b[38;5;241m2\u001b[39m\n",
      "\u001b[1;31mTypeError\u001b[0m: can only concatenate str (not \"int\") to str"
     ]
    }
   ],
   "source": [
    "x = 'I love chocolate' + 2"
   ]
  },
  {
   "cell_type": "code",
   "execution_count": 83,
   "id": "f8892a5f-9f63-4626-9c27-c58ddde17c78",
   "metadata": {},
   "outputs": [
    {
     "name": "stdout",
     "output_type": "stream",
     "text": [
      "6\n"
     ]
    }
   ],
   "source": [
    "y = 2 + 3 + 1\n",
    "\n",
    "print(y)"
   ]
  },
  {
   "cell_type": "markdown",
   "id": "58cfd801-fb18-47dc-bee9-4faf1cba92ea",
   "metadata": {},
   "source": [
    "If we want to add an integer to a string we can use a comma between two variables in a print statement\n",
    "\n",
    "This makes no sense but this is how we can add an integer to a string using comma. "
   ]
  },
  {
   "cell_type": "code",
   "execution_count": 16,
   "id": "c041e00e-4ea8-483b-ab73-e8c768ed6e9e",
   "metadata": {},
   "outputs": [
    {
     "name": "stdout",
     "output_type": "stream",
     "text": [
      "I love chocolate 2\n"
     ]
    }
   ],
   "source": [
    "x = 'I love chocolate'\n",
    "y = 2 \n",
    "\n",
    "print(x,y)"
   ]
  },
  {
   "cell_type": "code",
   "execution_count": null,
   "id": "4904e906-cbff-4cb7-b4df-d4c8027664af",
   "metadata": {},
   "outputs": [],
   "source": []
  },
  {
   "cell_type": "markdown",
   "id": "69df7c7d-7eb8-42df-867c-d80198d3a686",
   "metadata": {},
   "source": [
    "Adding **multiple** Variables in a Print Statement"
   ]
  },
  {
   "cell_type": "code",
   "execution_count": 92,
   "id": "7d46f417-e109-4610-9705-644783f7aabf",
   "metadata": {},
   "outputs": [],
   "source": [
    "x = 'I love'\n",
    "y = ' rainy winter'\n",
    "z = ' nights.'"
   ]
  },
  {
   "cell_type": "code",
   "execution_count": 94,
   "id": "c0611d1d-4bb4-460c-9e04-6aeda9e0d40e",
   "metadata": {},
   "outputs": [
    {
     "name": "stdout",
     "output_type": "stream",
     "text": [
      "I love rainy winter nights.\n"
     ]
    }
   ],
   "source": [
    "print(x+y+z)"
   ]
  },
  {
   "cell_type": "code",
   "execution_count": 96,
   "id": "1442bafd-65e6-4902-a7c7-1e6719c09694",
   "metadata": {},
   "outputs": [],
   "source": [
    "a = 10\n",
    "b = 60\n",
    "c = 30 "
   ]
  },
  {
   "cell_type": "code",
   "execution_count": 98,
   "id": "ee0e38f2-3eae-4d4c-8538-80a57775fe52",
   "metadata": {},
   "outputs": [
    {
     "name": "stdout",
     "output_type": "stream",
     "text": [
      "100\n"
     ]
    }
   ],
   "source": [
    "print(a+b+c)"
   ]
  },
  {
   "cell_type": "code",
   "execution_count": null,
   "id": "0664618b-111e-41c1-8f6d-cc1142cd01c2",
   "metadata": {},
   "outputs": [],
   "source": []
  },
  {
   "cell_type": "code",
   "execution_count": null,
   "id": "f701d1d7-823c-4bb8-917e-876a92bab6d1",
   "metadata": {},
   "outputs": [],
   "source": []
  }
 ],
 "metadata": {
  "kernelspec": {
   "display_name": "Python [conda env:base] *",
   "language": "python",
   "name": "conda-base-py"
  },
  "language_info": {
   "codemirror_mode": {
    "name": "ipython",
    "version": 3
   },
   "file_extension": ".py",
   "mimetype": "text/x-python",
   "name": "python",
   "nbconvert_exporter": "python",
   "pygments_lexer": "ipython3",
   "version": "3.12.7"
  }
 },
 "nbformat": 4,
 "nbformat_minor": 5
}
