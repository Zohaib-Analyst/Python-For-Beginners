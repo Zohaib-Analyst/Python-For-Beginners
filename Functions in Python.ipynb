{
 "cells": [
  {
   "cell_type": "markdown",
   "id": "751078ef-823d-4f46-b61b-3db1072a9d9e",
   "metadata": {},
   "source": [
    "## Functions in Python"
   ]
  },
  {
   "cell_type": "markdown",
   "id": "ce07b99a-7e5e-44a7-90c0-def41fb70f15",
   "metadata": {},
   "source": [
    "**Function is a block of code which only runs when we call it**. \n",
    "\n",
    "Once we write a function which is basically a code, we can then reuse it again and again to perform a same task. "
   ]
  },
  {
   "cell_type": "code",
   "execution_count": 11,
   "id": "8ed59293-5f43-4689-8f7e-3a7dd7f37499",
   "metadata": {},
   "outputs": [
    {
     "name": "stdout",
     "output_type": "stream",
     "text": [
      "My first function\n"
     ]
    }
   ],
   "source": [
    "def function(): # Function definition, which contains name of the function. 'Def' is reserved key word for defining a function.\n",
    "    print('My first function') # Body of code which will run when we call the function.\n",
    "\n",
    "function() # Function call. Typing the name of the function with parenthesis is basically call the function."
   ]
  },
  {
   "cell_type": "markdown",
   "id": "9f754e17-6459-496f-afee-12eeefc10f8d",
   "metadata": {},
   "source": [
    "**Steps in writing a Function**\n",
    "\n",
    "- **def**: Reserved key word for defining a function\n",
    "- **Name**: We can give any name to our functions such as product price, Patients discharge,sum but let's name it **first_func** here.\n",
    "- **Parenthesis ()**: We will put parenthesis **( )** right after the name of the function.\n",
    "- **Colon**: After typing in colon we will hit **enter** and python will automatically indent the space for the code.\n",
    "- **Body of code**: We can write anything in the body of code. However, here we will write simple expression. Let's just say **We did it**.\n",
    "\n",
    "This will be one of the simplest function in python. This function also has no **return**. So to see output we will call the function.\n",
    "\n",
    "**To call any function** we will write **name of the function** alongwith parenthesis **( )** and run it."
   ]
  },
  {
   "cell_type": "code",
   "execution_count": 25,
   "id": "7aea99cf-1468-4967-9228-aa8fc8923b88",
   "metadata": {},
   "outputs": [],
   "source": [
    "def first_func(): # our function\n",
    "    print('We did it')"
   ]
  },
  {
   "cell_type": "code",
   "execution_count": 27,
   "id": "1d967e95-cf28-4b8c-b56e-87880dadf043",
   "metadata": {},
   "outputs": [
    {
     "name": "stdout",
     "output_type": "stream",
     "text": [
      "We did it\n"
     ]
    }
   ],
   "source": [
    "first_func() # to call our function"
   ]
  },
  {
   "cell_type": "markdown",
   "id": "5331f554-06bc-4f71-94a5-799c44b8cd9d",
   "metadata": {},
   "source": [
    "**Passing Arguments in a function**\n",
    "\n",
    "Let's suppose that in our scripts we have to sum two variables **x** and **y** again and again with different values. \n",
    "\n",
    "Now to write same codes again and again to sum x and y, it is a good practice in programming to **write a function** and call it whenever we want to add x and y. "
   ]
  },
  {
   "cell_type": "code",
   "execution_count": 34,
   "id": "4981a734-00e7-420c-bb92-ef7bbf5cf4c3",
   "metadata": {},
   "outputs": [
    {
     "name": "stdout",
     "output_type": "stream",
     "text": [
      "5\n"
     ]
    }
   ],
   "source": [
    "x = 2\n",
    "y = 3\n",
    "\n",
    "sum = x + y\n",
    "\n",
    "print(sum)"
   ]
  },
  {
   "cell_type": "code",
   "execution_count": 36,
   "id": "cf715b50-73be-4e21-9114-668046ca11d1",
   "metadata": {},
   "outputs": [
    {
     "name": "stdout",
     "output_type": "stream",
     "text": [
      "19\n"
     ]
    }
   ],
   "source": [
    "x = 12\n",
    "y = 7\n",
    "\n",
    "sum = x + y\n",
    "\n",
    "print(sum)"
   ]
  },
  {
   "cell_type": "code",
   "execution_count": 38,
   "id": "682c1d76-cf37-4e78-9004-4a90fc14f9c3",
   "metadata": {},
   "outputs": [
    {
     "name": "stdout",
     "output_type": "stream",
     "text": [
      "32\n"
     ]
    }
   ],
   "source": [
    "x = 21\n",
    "y = 11\n",
    "\n",
    "sum = x + y\n",
    "\n",
    "print(sum)"
   ]
  },
  {
   "cell_type": "code",
   "execution_count": 57,
   "id": "c4f28435-4b7c-481c-9965-8487d37b036e",
   "metadata": {},
   "outputs": [],
   "source": [
    "def cal_sum(x,y):\n",
    "    sum = (x + y)\n",
    "    print(x + y)"
   ]
  },
  {
   "cell_type": "code",
   "execution_count": 52,
   "id": "6be20bfb-996f-4da5-9a3e-290979b05d8a",
   "metadata": {},
   "outputs": [
    {
     "name": "stdout",
     "output_type": "stream",
     "text": [
      "5\n",
      "19\n",
      "32\n"
     ]
    }
   ],
   "source": [
    "cal_sum(2,3)\n",
    "cal_sum(12,7)\n",
    "cal_sum(21,11)"
   ]
  },
  {
   "cell_type": "markdown",
   "id": "c22e3a24-d4f1-4bf1-911a-9cbbe3d92ca6",
   "metadata": {},
   "source": [
    "So what we did is that when we named our function **cal_sum** we passed two variables x and y inside parenthesis () and these called **parameters**. A function takes input inside parenthesis called parameters. Parameters are basically the names of variables.  \n",
    "\n",
    "Then to print sum of x and y we assigned a variable **sum** to it, we can give any name to it.  \n",
    "\n",
    "When we called our function **cal_func** we passed two values everytime we called it these values are called **arguments**. The values we passed in arguments will be stored inside parameters x and y and when we call it then it will return the sum of those values. \n",
    "\n",
    "So our function will take some input in the form of parameters and then perform calculations and give us out. \n",
    "\n",
    "Now, we don't need to repeat same code to add numbers again again. And our code will be easy to read now."
   ]
  },
  {
   "cell_type": "markdown",
   "id": "6c35d399-d0c5-433f-a505-7a8b20cf68e8",
   "metadata": {},
   "source": [
    "**Parts of a function**"
   ]
  },
  {
   "cell_type": "code",
   "execution_count": 115,
   "id": "0447a856-38ec-4544-b147-bd89813261a0",
   "metadata": {},
   "outputs": [],
   "source": [
    "def cal_sum(x, y): # This is called function definition, where x and y are called parameters.\n",
    "    return(x+y) # Return is a reserved key word used to return the output of a function. If we don't want to include it we will use print to get output"
   ]
  },
  {
   "cell_type": "code",
   "execution_count": 119,
   "id": "b5003c40-2f20-42bd-8f11-9f08be7a5eb6",
   "metadata": {},
   "outputs": [
    {
     "data": {
      "text/plain": [
       "10"
      ]
     },
     "execution_count": 119,
     "metadata": {},
     "output_type": "execute_result"
    }
   ],
   "source": [
    "cal_sum(3,7) # This is function call, where 3 and 4 are called arguments whose values are stored in our parameters."
   ]
  },
  {
   "cell_type": "code",
   "execution_count": 126,
   "id": "7768bf04-0931-4c2a-9fd8-458c738c7d1c",
   "metadata": {},
   "outputs": [],
   "source": [
    "def calc_sub(a, b):\n",
    "    return(a - b)"
   ]
  },
  {
   "cell_type": "code",
   "execution_count": 128,
   "id": "54c4a52f-6ab3-4c19-894f-fd3b1d7904d6",
   "metadata": {},
   "outputs": [
    {
     "data": {
      "text/plain": [
       "100"
      ]
     },
     "execution_count": 128,
     "metadata": {},
     "output_type": "execute_result"
    }
   ],
   "source": [
    "calc_sub(125,25)"
   ]
  },
  {
   "cell_type": "code",
   "execution_count": 140,
   "id": "9d5fac9f-9cf2-46aa-b0c2-106cb2ff920e",
   "metadata": {},
   "outputs": [],
   "source": [
    "def calc_multi(i, j):\n",
    "    product = (i * j)\n",
    "    print(i * j)"
   ]
  },
  {
   "cell_type": "code",
   "execution_count": 142,
   "id": "443bde7c-37df-4207-a58d-7298745d4fe2",
   "metadata": {},
   "outputs": [
    {
     "name": "stdout",
     "output_type": "stream",
     "text": [
      "40\n"
     ]
    }
   ],
   "source": [
    "calc_multi(4,10)"
   ]
  },
  {
   "cell_type": "markdown",
   "id": "3bb2d54a-6e25-4040-ba87-bfe6d6e9d1af",
   "metadata": {},
   "source": [
    "We can calculate the **average** of multiple numbers by creating a function. "
   ]
  },
  {
   "cell_type": "code",
   "execution_count": 153,
   "id": "285b58d0-f237-4110-be76-f0cf20950490",
   "metadata": {},
   "outputs": [],
   "source": [
    "def cal_avg(a,b,c,d,e):\n",
    "    sum = (a + b + c + d + e)\n",
    "    avg = sum/5\n",
    "    return(avg)"
   ]
  },
  {
   "cell_type": "code",
   "execution_count": 155,
   "id": "08cbc8d8-7cba-42db-82f0-7a6120c14878",
   "metadata": {},
   "outputs": [
    {
     "data": {
      "text/plain": [
       "87.4"
      ]
     },
     "execution_count": 155,
     "metadata": {},
     "output_type": "execute_result"
    }
   ],
   "source": [
    "cal_avg(89,93,75,97,83)"
   ]
  },
  {
   "cell_type": "markdown",
   "id": "5f26f55b-f359-4594-b030-597fdc4fedd4",
   "metadata": {},
   "source": [
    "**Parameters** and **return** key word are optional. When writing simple functions we can exclude both parameters and return from a functon. \n",
    "\n",
    "For instance, if we want to write a function that just returns **Good morning**, we can skipp both parameters and return from it."
   ]
  },
  {
   "cell_type": "code",
   "execution_count": 158,
   "id": "c50e9e61-c05e-446f-b0ac-0635565a1457",
   "metadata": {},
   "outputs": [],
   "source": [
    "def greetings():\n",
    "    print(\"Good morning\")"
   ]
  },
  {
   "cell_type": "code",
   "execution_count": 163,
   "id": "fd733987-768f-4e5f-ae34-ae90583c773a",
   "metadata": {
    "collapsed": true,
    "jupyter": {
     "outputs_hidden": true
    }
   },
   "outputs": [
    {
     "name": "stdout",
     "output_type": "stream",
     "text": [
      "Good morning\n",
      "Good morning\n",
      "Good morning\n",
      "Good morning\n"
     ]
    }
   ],
   "source": [
    "greetings()\n",
    "greetings()\n",
    "greetings()\n",
    "greetings()"
   ]
  },
  {
   "cell_type": "markdown",
   "id": "b7343f2e-701a-40d3-a038-acfc3ac21dce",
   "metadata": {},
   "source": [
    "There are two types of functions in python. \n",
    "\n",
    "- **Built-in Functions**: \n",
    "Functions which already exist in python such as print(), type(), len(), range()\n",
    "\n",
    "- **User Defined Functions**:\n",
    "Fucntions which we create in python are called user defined functions. "
   ]
  },
  {
   "cell_type": "markdown",
   "id": "6ccd62fc-7b9c-4aad-8f17-85ea47f289b4",
   "metadata": {},
   "source": [
    "**Default Parameters**\n",
    "\n",
    "Assigning default values to parameters which are used when no arguments are passsed when calling a function.\n",
    "\n",
    "For instance, we want to find the product of **a** and **b**, but we want to pass 1 or 0 arguments when we will call our function.\n",
    "\n",
    "So if we want our function to work even if we don't pass any arguments when we call it then we will pass some default values in our parameters.\n",
    "\n",
    "Let's suppose **a = 6** in our definition which will be its default value and **b = 5** then it will be **6*5** if we don't pass any arguments when we call our function.\n",
    "\n",
    "**Note:** If we pass any values in our arguments let's say 2 and 4 when we are calling the function then it will be 2*4"
   ]
  },
  {
   "cell_type": "code",
   "execution_count": 177,
   "id": "be1335c5-830f-497f-89c4-0d1da32c3172",
   "metadata": {},
   "outputs": [],
   "source": [
    "def cal_prod(a = 6, b = 5):\n",
    "    print(a * b)"
   ]
  },
  {
   "cell_type": "code",
   "execution_count": 183,
   "id": "3126c7ca-b4d9-4ff8-912a-d5797b42959a",
   "metadata": {},
   "outputs": [
    {
     "name": "stdout",
     "output_type": "stream",
     "text": [
      "30\n"
     ]
    }
   ],
   "source": [
    "cal_prod()"
   ]
  },
  {
   "cell_type": "code",
   "execution_count": 186,
   "id": "4ae101e1-e8c5-4984-96e6-fd69a9ab91f6",
   "metadata": {},
   "outputs": [
    {
     "name": "stdout",
     "output_type": "stream",
     "text": [
      "8\n"
     ]
    }
   ],
   "source": [
    "cal_prod(2,4)"
   ]
  },
  {
   "cell_type": "markdown",
   "id": "0e5f6aa9-3861-4c0e-b639-77fd0f0faee3",
   "metadata": {},
   "source": [
    "If we want, we can have one default parameter and pass only one parameter. However, we need to note that we must assign default value to our second parameter and enter the value of just first parameter when calling the function, otherwise it will give us an error."
   ]
  },
  {
   "cell_type": "code",
   "execution_count": 188,
   "id": "9c91f614-8741-494b-ae85-a522ecf685c8",
   "metadata": {},
   "outputs": [],
   "source": [
    "def cal_prod(a, b = 3):\n",
    "    return(a *b)"
   ]
  },
  {
   "cell_type": "code",
   "execution_count": 190,
   "id": "538ec044-9f70-48e1-9b20-70b8a4b31a80",
   "metadata": {},
   "outputs": [
    {
     "data": {
      "text/plain": [
       "21"
      ]
     },
     "execution_count": 190,
     "metadata": {},
     "output_type": "execute_result"
    }
   ],
   "source": [
    "cal_prod(7)"
   ]
  },
  {
   "cell_type": "markdown",
   "id": "bb1d2f1b-6233-4a7e-9d16-b0a7ce8dee24",
   "metadata": {},
   "source": [
    "**Q:** Write a function to print the length of a list?(List will be parameter)"
   ]
  },
  {
   "cell_type": "code",
   "execution_count": 195,
   "id": "afa56762-d691-4b36-97fc-88205ebd7e90",
   "metadata": {},
   "outputs": [],
   "source": [
    "teams = ['Pakistan', 'New Zealand', 'India', 'Bangladesh', 'Afghanistan', 'Australia', 'England', 'South Africa']\n",
    "\n",
    "venues = ['Lahore', 'Karachi', 'Rawalpindi','Dubai']"
   ]
  },
  {
   "cell_type": "markdown",
   "id": "6f238573-9e57-4991-945a-5d2821f06277",
   "metadata": {},
   "source": [
    "However, we can calculate the length of these list using built-in **len() function** just like len(teams) or len(venues), but we will create our own function to calculate the length of these lists.\n",
    "\n",
    "So we will **def** it and let's name it **list_len** and then in parenthesis we can say **list**. So when we have any list in there it will print it out.\n",
    "\n",
    "Now we need to print list_len which could be any list which we pass in it and it will print its length. "
   ]
  },
  {
   "cell_type": "code",
   "execution_count": 219,
   "id": "3f8acd3d-ca97-4b33-88ca-46735e714dc7",
   "metadata": {},
   "outputs": [],
   "source": [
    "def list_len(list):\n",
    "    print(len(list))"
   ]
  },
  {
   "cell_type": "code",
   "execution_count": 221,
   "id": "0ba89482-3aa6-4b46-8721-84b7369f8c28",
   "metadata": {},
   "outputs": [
    {
     "name": "stdout",
     "output_type": "stream",
     "text": [
      "8\n",
      "4\n"
     ]
    }
   ],
   "source": [
    "list_len(teams)\n",
    "list_len(venues)"
   ]
  },
  {
   "cell_type": "markdown",
   "id": "fab8ab03-5676-4763-b18a-7475ac4a4977",
   "metadata": {},
   "source": [
    "**Q:** Write a function to calculate USD to PKR?"
   ]
  },
  {
   "cell_type": "code",
   "execution_count": 230,
   "id": "6f1c39fd-5ffe-46b7-a024-bdcd08d04731",
   "metadata": {},
   "outputs": [],
   "source": [
    "def cur_conv(usd_value):\n",
    "    pkr_value = usd_value * 281\n",
    "    print(usd_value,'USD =', pkr_value, 'PKR')"
   ]
  },
  {
   "cell_type": "code",
   "execution_count": 242,
   "id": "59515e1e-a086-434f-8784-ecd704605465",
   "metadata": {},
   "outputs": [
    {
     "name": "stdout",
     "output_type": "stream",
     "text": [
      "10 USD = 2810 PKR\n"
     ]
    }
   ],
   "source": [
    "cur_conv(10)"
   ]
  },
  {
   "cell_type": "code",
   "execution_count": null,
   "id": "64f16bb3-d259-4e13-9dfd-1d385b99a88b",
   "metadata": {},
   "outputs": [],
   "source": []
  },
  {
   "cell_type": "code",
   "execution_count": null,
   "id": "f0f2f162-41b5-471b-89c2-a012e72dba15",
   "metadata": {},
   "outputs": [],
   "source": []
  }
 ],
 "metadata": {
  "kernelspec": {
   "display_name": "Python [conda env:base] *",
   "language": "python",
   "name": "conda-base-py"
  },
  "language_info": {
   "codemirror_mode": {
    "name": "ipython",
    "version": 3
   },
   "file_extension": ".py",
   "mimetype": "text/x-python",
   "name": "python",
   "nbconvert_exporter": "python",
   "pygments_lexer": "ipython3",
   "version": "3.12.7"
  }
 },
 "nbformat": 4,
 "nbformat_minor": 5
}
