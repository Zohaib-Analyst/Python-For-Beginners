{
 "cells": [
  {
   "cell_type": "markdown",
   "id": "ff9851a2-84c4-4c19-8608-fcb8cbbea809",
   "metadata": {},
   "source": [
    "# Mutable and Immutable Objects"
   ]
  },
  {
   "cell_type": "markdown",
   "id": "af3d8e14-768a-4b11-95ed-48b3005dc0c4",
   "metadata": {},
   "source": [
    "Everything in Python is an object. Every variable in python holds an instance of an object. For example, a = 20 where a is variable and 20 is an object a type of an integer which is assigned automatically. \n",
    "\n",
    "Whenever, we create/initiate an object it is assigned with a unique ID at runtime.\n",
    "\n",
    "We can find the type and ID of any object using print statement. For instance, a = 20"
   ]
  },
  {
   "cell_type": "code",
   "execution_count": 4,
   "id": "9ee32ce7-0718-4097-ab00-01cdfb449f21",
   "metadata": {},
   "outputs": [],
   "source": [
    "a = 20"
   ]
  },
  {
   "cell_type": "code",
   "execution_count": 6,
   "id": "0f309e2c-11ff-4579-8c9b-4fcec3c8fa09",
   "metadata": {},
   "outputs": [
    {
     "name": "stdout",
     "output_type": "stream",
     "text": [
      "<class 'int'>\n"
     ]
    }
   ],
   "source": [
    "print(type(a))"
   ]
  },
  {
   "cell_type": "code",
   "execution_count": 8,
   "id": "e3cf2809-38d5-4262-ba1c-2bff1c0494fe",
   "metadata": {},
   "outputs": [
    {
     "name": "stdout",
     "output_type": "stream",
     "text": [
      "140722993441816\n"
     ]
    }
   ],
   "source": [
    "print(id(a))"
   ]
  },
  {
   "cell_type": "markdown",
   "id": "9dcabfe0-19a2-43da-be6b-852e6270a671",
   "metadata": {},
   "source": [
    "# Mutable Objects"
   ]
  },
  {
   "cell_type": "markdown",
   "id": "b411a482-9811-4362-a9b1-1688b5c9a7e7",
   "metadata": {},
   "source": [
    "Ojects which can be changed once they are created are called **Mutable objects**. \n",
    "\n",
    "When we make changes to mutable objects by performing operations we make changes on same memory location where objects were created.\n",
    "\n",
    "The ID assigned to mutable object at runtime remains the same when we perform operations on them.\n",
    "\n",
    "**Lists**, **sets**, **dictionaries**, **byte array** are the examples of **mutable** objects. "
   ]
  },
  {
   "cell_type": "code",
   "execution_count": 7,
   "id": "28bf725f-4528-4048-85fc-5b23991ab254",
   "metadata": {},
   "outputs": [],
   "source": [
    "shopping_list = ['Bread', 'Butter', 'Jam']"
   ]
  },
  {
   "cell_type": "code",
   "execution_count": 9,
   "id": "4095249c-607f-4341-acf9-e0bea8654d3f",
   "metadata": {},
   "outputs": [
    {
     "name": "stdout",
     "output_type": "stream",
     "text": [
      "ID of list before operation 2806369579072\n"
     ]
    }
   ],
   "source": [
    "print('ID of list before operation',id(shopping_list))"
   ]
  },
  {
   "cell_type": "code",
   "execution_count": 11,
   "id": "8fa8c614-7394-43f8-9f24-98cb85904ad2",
   "metadata": {},
   "outputs": [],
   "source": [
    "shopping_list.append('Milk') # Performing operation on shopping_list"
   ]
  },
  {
   "cell_type": "code",
   "execution_count": 51,
   "id": "71217fde-1a59-4459-91d8-9d3546655434",
   "metadata": {},
   "outputs": [
    {
     "name": "stdout",
     "output_type": "stream",
     "text": [
      "['Bread', 'Butter', 'Jam', 'Milk']\n"
     ]
    }
   ],
   "source": [
    "print(shopping_list)"
   ]
  },
  {
   "cell_type": "code",
   "execution_count": 13,
   "id": "fa5032d2-7b35-4549-86ac-22610f5e96fa",
   "metadata": {},
   "outputs": [
    {
     "name": "stdout",
     "output_type": "stream",
     "text": [
      "ID of list after operation 2806369579072\n"
     ]
    }
   ],
   "source": [
    "print('ID of list after operation',id(shopping_list))"
   ]
  },
  {
   "cell_type": "markdown",
   "id": "de4d403c-3d6c-48d0-8595-f31be64f8759",
   "metadata": {},
   "source": [
    "# Immutable Objects"
   ]
  },
  {
   "cell_type": "markdown",
   "id": "eee669f8-e7ae-4e07-b58f-c26e7eccf836",
   "metadata": {},
   "source": [
    "Objects which can not be changed once they are created are called **Immutable objects**. \n",
    "\n",
    "When we make change to Immutable objects we are actually creating **new objects** on another memory location with a **new id**. \n",
    "\n",
    "Whenever we perform an operation on immutable object a new id will be assigned to the new object.\n",
    "\n",
    "**Integers**, **floats**, **boolean**, **strings**, **tuples** and **unicode** are the examples of **immutable objects**. "
   ]
  },
  {
   "cell_type": "code",
   "execution_count": 56,
   "id": "1598b80a-88b6-4bca-8bde-6b789a921823",
   "metadata": {},
   "outputs": [],
   "source": [
    "a = 10"
   ]
  },
  {
   "cell_type": "code",
   "execution_count": 58,
   "id": "57e1c342-202a-4ad8-91f1-8dd807362714",
   "metadata": {},
   "outputs": [
    {
     "name": "stdout",
     "output_type": "stream",
     "text": [
      "ID of a before operation 140722993441496\n"
     ]
    }
   ],
   "source": [
    "print('ID of a before operation',id(a))"
   ]
  },
  {
   "cell_type": "code",
   "execution_count": 16,
   "id": "0029c90a-33d1-4dff-91c9-d8aa02301840",
   "metadata": {},
   "outputs": [],
   "source": [
    "a = 10 + 10"
   ]
  },
  {
   "cell_type": "code",
   "execution_count": 62,
   "id": "2fb629ea-b58c-445d-9975-e14df279d869",
   "metadata": {},
   "outputs": [
    {
     "name": "stdout",
     "output_type": "stream",
     "text": [
      "20\n"
     ]
    }
   ],
   "source": [
    "print(a)"
   ]
  },
  {
   "cell_type": "code",
   "execution_count": 64,
   "id": "f3c6d865-9d4a-44ba-a37b-c4af1f79101f",
   "metadata": {},
   "outputs": [
    {
     "name": "stdout",
     "output_type": "stream",
     "text": [
      "ID of a after operation 140722993441816\n"
     ]
    }
   ],
   "source": [
    "print('ID of a after operation',id(a))"
   ]
  },
  {
   "cell_type": "code",
   "execution_count": null,
   "id": "d37bc658-6590-43da-bf9a-dc83e9258137",
   "metadata": {},
   "outputs": [],
   "source": []
  },
  {
   "cell_type": "code",
   "execution_count": null,
   "id": "8bf1c3b9-f7a9-444c-b7bd-bcf2b6b6a0d2",
   "metadata": {},
   "outputs": [],
   "source": []
  }
 ],
 "metadata": {
  "kernelspec": {
   "display_name": "Python [conda env:base] *",
   "language": "python",
   "name": "conda-base-py"
  },
  "language_info": {
   "codemirror_mode": {
    "name": "ipython",
    "version": 3
   },
   "file_extension": ".py",
   "mimetype": "text/x-python",
   "name": "python",
   "nbconvert_exporter": "python",
   "pygments_lexer": "ipython3",
   "version": "3.12.7"
  }
 },
 "nbformat": 4,
 "nbformat_minor": 5
}
