{
 "cells": [
  {
   "cell_type": "markdown",
   "id": "5eb38398-face-497c-a48a-4dc6bded0c6b",
   "metadata": {},
   "source": [
    "# WHILE LOOPS"
   ]
  },
  {
   "cell_type": "markdown",
   "id": "2a5d02ee-45ec-45b8-b88d-9a20f5f522af",
   "metadata": {},
   "source": [
    "**While Loop** in python is used to iterate over a piece of code as long as a test condition is **True**. \n",
    "\n",
    "The difference between a For Loop and While Loop is that For Loop iterate over entire sequence regardless of any condition. Whereas, While Loop will only iterate as long as a specific condition is met or true. Once the condition is False or not met While Loop will end and code will not be executed further. "
   ]
  },
  {
   "cell_type": "markdown",
   "id": "bb77cc77-09af-4e90-8622-68f462d7547c",
   "metadata": {},
   "source": [
    "To start writting a While Loop we first need to create a variable. Generally we say **number = 1** which is our variable then we will first type in **while** which is a reserved key word for While Loop. **A reserved key word cannot be a name of a variable in python**. After typing 'while' we will write down our variable name which is **number** in this example. Followed by a **condition** which need to be met in order to run the code that we will type in after putting colon **:** and hitting **enter**. "
   ]
  },
  {
   "cell_type": "markdown",
   "id": "47c473ce-9099-45a7-ae52-e0b38ea13f04",
   "metadata": {},
   "source": [
    "So after writing our code we need to increase our variable because if it remain at 1 it will always remain at 1. \n",
    "\n",
    "It is like creating a counter. \n",
    "\n",
    "So we can say number = number + 1 or number += 1 both are same. \n",
    "\n",
    "So each time when it runs through this loop it will add 1 to our variable. First it will become 2 then 3 untill it reaches our codition which is <= 5 and then While loop will end. "
   ]
  },
  {
   "cell_type": "code",
   "execution_count": 7,
   "id": "38675ecb-4f2b-42d9-aa99-a8cd17c8ec09",
   "metadata": {},
   "outputs": [
    {
     "name": "stdout",
     "output_type": "stream",
     "text": [
      "1\n",
      "2\n",
      "3\n",
      "4\n",
      "5\n"
     ]
    }
   ],
   "source": [
    "number = 1\n",
    "\n",
    "while number <= 5:\n",
    "    print(number)\n",
    "    number += 1 "
   ]
  },
  {
   "cell_type": "markdown",
   "id": "73475d31-4273-4441-ab78-dedc7b493730",
   "metadata": {},
   "source": [
    "To print the numbers from 5 to 1 we will run our loop in **reverse**. First of all our iterator(variable) will be equal to to 5 because we will start from 5.\n",
    "\n",
    "Our condition in While statement will be changed to >= 1 because we want to print till 1 and couter will be changed to -= 1 to subtract 1 in each loop"
   ]
  },
  {
   "cell_type": "code",
   "execution_count": 16,
   "id": "0cd4251f-e834-4cca-a098-69e3b3abd3f3",
   "metadata": {},
   "outputs": [
    {
     "name": "stdout",
     "output_type": "stream",
     "text": [
      "5\n",
      "4\n",
      "3\n",
      "2\n",
      "1\n",
      "End Loop\n"
     ]
    }
   ],
   "source": [
    "number = 5\n",
    "\n",
    "while number >= 1:\n",
    "    print(number)\n",
    "    number = (number - 1)\n",
    "\n",
    "print('End Loop')"
   ]
  },
  {
   "cell_type": "markdown",
   "id": "7214d779-d2e3-4ac0-876a-94072b76a501",
   "metadata": {},
   "source": [
    "We usually use small words like **i,j,k,x,y** etc for our varaible name instead of words like numbers, value, items etc.\n",
    "\n",
    "If we want we can also print anything else five times instead of numbers 1 to 5. Let's print **ice_cream** five times. "
   ]
  },
  {
   "cell_type": "code",
   "execution_count": 6,
   "id": "99e73bb3-3dd9-4868-a872-db1f297bc185",
   "metadata": {},
   "outputs": [
    {
     "name": "stdout",
     "output_type": "stream",
     "text": [
      "ice_cream\n",
      "ice_cream\n",
      "ice_cream\n",
      "ice_cream\n",
      "ice_cream\n"
     ]
    }
   ],
   "source": [
    "i = 1 \n",
    "\n",
    "while i <= 5:\n",
    "    print('ice_cream')\n",
    "    i = i + 1"
   ]
  },
  {
   "cell_type": "markdown",
   "id": "d729bda3-3fef-472c-a1ba-4e47dcf42ffe",
   "metadata": {},
   "source": [
    "To print 'ice_cream' **1 million times** we just need to change **5** in our condition to 1 million or anything we want let's change it to **25**. \n",
    "\n",
    "To print **count** we will include our iterator which is **i** in our print statement as well with **ice_cream**. "
   ]
  },
  {
   "cell_type": "code",
   "execution_count": 25,
   "id": "7ef8ef43-eb82-4f0c-a28c-948d8689e3a4",
   "metadata": {},
   "outputs": [
    {
     "name": "stdout",
     "output_type": "stream",
     "text": [
      "ice_cream 1\n",
      "ice_cream 2\n",
      "ice_cream 3\n",
      "ice_cream 4\n",
      "ice_cream 5\n",
      "ice_cream 6\n",
      "ice_cream 7\n",
      "ice_cream 8\n",
      "ice_cream 9\n",
      "ice_cream 10\n",
      "ice_cream 11\n",
      "ice_cream 12\n",
      "ice_cream 13\n",
      "ice_cream 14\n",
      "ice_cream 15\n",
      "ice_cream 16\n",
      "ice_cream 17\n",
      "ice_cream 18\n",
      "ice_cream 19\n",
      "ice_cream 20\n",
      "ice_cream 21\n",
      "ice_cream 22\n",
      "ice_cream 23\n",
      "ice_cream 24\n",
      "ice_cream 25\n"
     ]
    }
   ],
   "source": [
    "i = 1\n",
    "\n",
    "while i <= 25:\n",
    "    print('ice_cream', i)\n",
    "    i += 1"
   ]
  },
  {
   "cell_type": "markdown",
   "id": "3661d970-10eb-47a1-bbbd-5b2a36d13616",
   "metadata": {},
   "source": [
    "In real world programming we need to double check if our while loop is **finite** or **infinite** because infinite loop will hault our programming or execution.\n",
    "\n",
    "There is no practicle use of infinite loops in programming. To see logic behind such loops we will create one infinite loop. \n",
    "\n",
    "Our condition is that j is less than 6 and j starts at 5 so it will always be less then 6 and with each loop it is decreased by 1. \n",
    "\n",
    "So it will be like 5,4,3,2,1,-1.-2... and so on. Such loops are infinite loops where our condition always remains True. "
   ]
  },
  {
   "cell_type": "code",
   "execution_count": null,
   "id": "7e4627b4-e16d-472e-aff3-451442b0513c",
   "metadata": {
    "jp-MarkdownHeadingCollapsed": true
   },
   "outputs": [],
   "source": [
    "j = 5\n",
    "\n",
    "while j < 6:\n",
    "    print(j)\n",
    "    j = (j-1)"
   ]
  },
  {
   "cell_type": "markdown",
   "id": "4f54a0bc-eb7b-494f-a7eb-d3427f4f84e3",
   "metadata": {},
   "source": [
    "**BREAK Statement**\n",
    "\n",
    "Break statement stops the While loop even if the condition is True. \n",
    "\n",
    "We write Break Statement below print statement by typing in **if** key word so we can say if x is equal to something then **:** after typing colon we will hit enter and write **break**\n",
    "\n",
    "We will say **if x is equal to 5 then break** and our loop will break when it reaches 5 although our condition is True untill it reaches 10."
   ]
  },
  {
   "cell_type": "code",
   "execution_count": 21,
   "id": "7b665262-4d9e-402f-88d0-5f57bc6b7636",
   "metadata": {},
   "outputs": [
    {
     "name": "stdout",
     "output_type": "stream",
     "text": [
      "1\n",
      "2\n",
      "3\n",
      "4\n",
      "5\n"
     ]
    }
   ],
   "source": [
    "x = 1\n",
    "\n",
    "while x <= 10:\n",
    "    print(x)\n",
    "    if x == 5:\n",
    "        break\n",
    "    x += 1 "
   ]
  },
  {
   "cell_type": "markdown",
   "id": "b3a5ac82-0664-4663-9f3b-67892a4fb24a",
   "metadata": {},
   "source": [
    "**ELSE Statement** \n",
    "\n",
    "At the end of our While loop we can type in **Else** statement and **when condition in While loop is False Else statement is activated**.\n",
    "\n",
    "Else Statement will only trigger if the condition in While loop is not True. "
   ]
  },
  {
   "cell_type": "code",
   "execution_count": 37,
   "id": "0ae26147-3903-46e5-8442-5be3132f1836",
   "metadata": {},
   "outputs": [
    {
     "name": "stdout",
     "output_type": "stream",
     "text": [
      "no longer < 10\n"
     ]
    }
   ],
   "source": [
    "x = 1\n",
    "\n",
    "while x > 10:\n",
    "    print(x)\n",
    "    x += 1\n",
    "else:\n",
    "    print('no longer < 10')"
   ]
  },
  {
   "cell_type": "code",
   "execution_count": 39,
   "id": "866743dc-7b1c-4ac9-87f2-5f62b5883f7e",
   "metadata": {},
   "outputs": [
    {
     "name": "stdout",
     "output_type": "stream",
     "text": [
      "1\n",
      "2\n",
      "3\n",
      "4\n",
      "5\n",
      "6\n",
      "7\n",
      "8\n",
      "9\n",
      "no longer < 10\n"
     ]
    }
   ],
   "source": [
    "x = 1\n",
    "\n",
    "while x < 10:\n",
    "    print(x)\n",
    "    x += 1\n",
    "else:\n",
    "    print('no longer < 10')"
   ]
  },
  {
   "cell_type": "markdown",
   "id": "3da6592d-17ca-4fa9-a654-de66b98530cd",
   "metadata": {},
   "source": [
    "If we have **IF** statement in our loop and it is **True** and it cause our loop to break then **Else** statement will not be activated."
   ]
  },
  {
   "cell_type": "code",
   "execution_count": 41,
   "id": "0eae2115-7c2a-489e-9001-c0a9edaf2a0c",
   "metadata": {},
   "outputs": [
    {
     "name": "stdout",
     "output_type": "stream",
     "text": [
      "1\n",
      "2\n",
      "3\n",
      "4\n",
      "5\n"
     ]
    }
   ],
   "source": [
    "x = 1\n",
    "\n",
    "while x < 10:\n",
    "    print(x)\n",
    "    if x == 5:\n",
    "        break\n",
    "    x = (x+1)\n",
    "else:\n",
    "    ('no longer < 10')"
   ]
  },
  {
   "cell_type": "code",
   "execution_count": null,
   "id": "4d02f39f-666f-48dc-baf8-87328987e312",
   "metadata": {},
   "outputs": [],
   "source": []
  },
  {
   "cell_type": "markdown",
   "id": "5f7368af-6930-49ab-a262-86c23d3e9025",
   "metadata": {},
   "source": [
    "Q: Print the multiplication table of number n ( n could be any number) "
   ]
  },
  {
   "cell_type": "code",
   "execution_count": null,
   "id": "3f796726-9c19-4a84-b610-d96b78a34f46",
   "metadata": {},
   "outputs": [],
   "source": [
    "k = 1\n",
    "\n",
    "while k <= 10:\n",
    "    print(n*k)\n",
    "    k += 1"
   ]
  },
  {
   "cell_type": "code",
   "execution_count": 47,
   "id": "1e7216bd-63b2-4334-bea8-2147eb05c293",
   "metadata": {},
   "outputs": [
    {
     "name": "stdout",
     "output_type": "stream",
     "text": [
      "15\n",
      "30\n",
      "45\n",
      "60\n",
      "75\n",
      "90\n",
      "105\n",
      "120\n",
      "135\n",
      "150\n"
     ]
    }
   ],
   "source": [
    "k = 1\n",
    "\n",
    "while k <= 10:\n",
    "    print(15*k)\n",
    "    k += 1"
   ]
  },
  {
   "cell_type": "code",
   "execution_count": null,
   "id": "37b29b2f-ccc5-4333-958a-d475ab2d31ad",
   "metadata": {},
   "outputs": [],
   "source": []
  },
  {
   "cell_type": "code",
   "execution_count": null,
   "id": "66880c51-cf16-43b1-a065-1a10352a0c68",
   "metadata": {},
   "outputs": [],
   "source": []
  }
 ],
 "metadata": {
  "kernelspec": {
   "display_name": "Python [conda env:base] *",
   "language": "python",
   "name": "conda-base-py"
  },
  "language_info": {
   "codemirror_mode": {
    "name": "ipython",
    "version": 3
   },
   "file_extension": ".py",
   "mimetype": "text/x-python",
   "name": "python",
   "nbconvert_exporter": "python",
   "pygments_lexer": "ipython3",
   "version": "3.12.7"
  }
 },
 "nbformat": 4,
 "nbformat_minor": 5
}
