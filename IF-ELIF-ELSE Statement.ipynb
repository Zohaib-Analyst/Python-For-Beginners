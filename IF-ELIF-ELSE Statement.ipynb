{
 "cells": [
  {
   "cell_type": "markdown",
   "id": "e8b2d27c-2671-4012-989d-58fbe35c4bbe",
   "metadata": {},
   "source": [
    "# IF-ELIF-ELSE Statements"
   ]
  },
  {
   "cell_type": "markdown",
   "id": "9b977cd6-7f02-47d3-b577-9717512787b1",
   "metadata": {},
   "source": [
    "When have **IF statement** on top and condition in IF is **true** code is executed.\n",
    "\n",
    "However, if condition is **false** in **IF statement** it goes down to **ELIF statement** and check if it is true or false. If Elif statement is **true** then it runs the code.\n",
    "\n",
    "When we have **false** conditions in **IF** and **ELIF** then it goes to **ELSE statement** and runs this body of code. \n",
    "\n",
    "**Note:** When condition is true let's say in IF statement then it will not go down and try other statements but execute this IF statement."
   ]
  },
  {
   "cell_type": "markdown",
   "id": "22020159-5ef3-48f4-b74d-bce17b029023",
   "metadata": {},
   "source": [
    "**IF Statement**"
   ]
  },
  {
   "cell_type": "code",
   "execution_count": 3,
   "id": "a381f697-cbee-46ec-95ff-6ac0439adb28",
   "metadata": {},
   "outputs": [
    {
     "name": "stdout",
     "output_type": "stream",
     "text": [
      "IF worked\n"
     ]
    }
   ],
   "source": [
    "if 10 > 5:\n",
    "    print('IF worked')"
   ]
  },
  {
   "cell_type": "markdown",
   "id": "15f75a3f-98b1-48cb-86cc-8573ce51e161",
   "metadata": {},
   "source": [
    "**ELIF Statement** (ELIF is short for Else IF)"
   ]
  },
  {
   "cell_type": "code",
   "execution_count": 9,
   "id": "39552d63-b865-4afe-9197-873828e3dc8c",
   "metadata": {},
   "outputs": [
    {
     "name": "stdout",
     "output_type": "stream",
     "text": [
      "ELIF worked\n"
     ]
    }
   ],
   "source": [
    "if 10 < 5:\n",
    "    print('IF worked')\n",
    "elif 20 >= 10:\n",
    "    print('ELIF worked')"
   ]
  },
  {
   "cell_type": "markdown",
   "id": "ae51c06e-e0c3-444d-b1c9-144bda45b431",
   "metadata": {},
   "source": [
    "**ELSE Statement**"
   ]
  },
  {
   "cell_type": "code",
   "execution_count": 21,
   "id": "0e8bb559-fce2-460e-a7c6-74ff078726ff",
   "metadata": {},
   "outputs": [
    {
     "name": "stdout",
     "output_type": "stream",
     "text": [
      "ELSE worked\n"
     ]
    }
   ],
   "source": [
    "if 10 < 5:\n",
    "    print('IF worked')\n",
    "elif 20 == 10:\n",
    "    print('ELIF worked')\n",
    "else:\n",
    "    print('ELSE worked')"
   ]
  },
  {
   "cell_type": "markdown",
   "id": "e8e3a8b5-8c3a-48bb-9c44-99b25682cc16",
   "metadata": {},
   "source": [
    "When we want to check **multiple conditions** we will use **ELIF Statement** because we can have as many ELIF statements as we want.\n",
    "\n",
    "It can go on and on and we can create a very indepth logic and it happens alot when we start writing more advance codes. "
   ]
  },
  {
   "cell_type": "code",
   "execution_count": 25,
   "id": "e5e7e4bf-c6f5-42d3-aa87-ba623b7a8b17",
   "metadata": {},
   "outputs": [
    {
     "name": "stdout",
     "output_type": "stream",
     "text": [
      "ELIF 2 worked\n"
     ]
    }
   ],
   "source": [
    "# ELIF 2 will work becaue IF and ELIF are false and it will not look for any other statements further down. \n",
    "\n",
    "if 10 > 50:\n",
    "    print('IF worked')\n",
    "elif 20 > 20:\n",
    "    print('ELIF worked')\n",
    "elif 30 > 20:\n",
    "    print('ELIF 2 worked')\n",
    "elif 40 > 30:\n",
    "    print('ELIF 3 worked')\n",
    "elif 50 > 40:\n",
    "    print('ELIF 4 worked') \n",
    "else:\n",
    "    print('ELSE worked!!!')"
   ]
  },
  {
   "cell_type": "code",
   "execution_count": 7,
   "id": "1ac2fd8b-ea8b-4cef-8689-75c14004f841",
   "metadata": {},
   "outputs": [
    {
     "name": "stdout",
     "output_type": "stream",
     "text": [
      "ELIF 4 worked\n"
     ]
    }
   ],
   "source": [
    "# ELIF 4 will work\n",
    "\n",
    "if 10 > 50:\n",
    "    print('IF worked')\n",
    "elif 20 > 20:\n",
    "    print('ELIF worked')\n",
    "elif 30 < 20:\n",
    "    print('ELIF 2 worked')\n",
    "elif 40 == 60:\n",
    "    print('ELIF 3 worked')\n",
    "elif 50 > 40:\n",
    "    print('ELIF 4 worked') \n",
    "else:\n",
    "    print('ELSE worked!!!')"
   ]
  },
  {
   "cell_type": "code",
   "execution_count": 9,
   "id": "3ef83af5-9cc8-4b29-a948-12a2dfc0751d",
   "metadata": {},
   "outputs": [
    {
     "name": "stdout",
     "output_type": "stream",
     "text": [
      "ELSE worked!!!\n"
     ]
    }
   ],
   "source": [
    "# When condition is false in IF and all ELIF statements then it will run code in ELSE statement\n",
    "\n",
    "if 10 > 50:\n",
    "    print('IF worked')\n",
    "elif 20 > 20:\n",
    "    print('ELIF worked')\n",
    "elif 30 < 20:\n",
    "    print('ELIF 2 worked')\n",
    "elif 40 > 60:\n",
    "    print('ELIF 3 worked')\n",
    "elif 50 == 40:\n",
    "    print('ELIF 4 worked') \n",
    "else:\n",
    "    print('ELSE worked!!!')"
   ]
  },
  {
   "cell_type": "code",
   "execution_count": 33,
   "id": "66dfcc52-05de-4488-ad63-743d2f36929e",
   "metadata": {},
   "outputs": [
    {
     "name": "stdout",
     "output_type": "stream",
     "text": [
      "IF worked\n"
     ]
    }
   ],
   "source": [
    "# When condition is true in IF statement it will run the code and will not check any other statements down below.\n",
    "\n",
    "if 10 < 50:\n",
    "    print('IF worked')\n",
    "elif 20 == 20:\n",
    "    print('ELIF worked')\n",
    "elif 30 > 20:\n",
    "    print('ELIF 2 worked')\n",
    "elif 40 > 10:\n",
    "    print('ELIF 3 worked')\n",
    "elif 50 <= 40:\n",
    "    print('ELIF 4 worked') \n",
    "else:\n",
    "    print('ELSE worked!!!')"
   ]
  },
  {
   "cell_type": "markdown",
   "id": "043b63b2-1186-41fa-94dc-1138f0675883",
   "metadata": {},
   "source": [
    "We can use **logical operators**(and/or) in our statements \n",
    "\n",
    "The expressions below will return **IF worked** because we used **and** operator and both the conditions in If statement are true."
   ]
  },
  {
   "cell_type": "code",
   "execution_count": 14,
   "id": "4f37a97a-b74a-4181-93ee-0bc2be287ddf",
   "metadata": {},
   "outputs": [
    {
     "name": "stdout",
     "output_type": "stream",
     "text": [
      "IF worked\n"
     ]
    }
   ],
   "source": [
    "if (10 > 5) and (30 <= 80):\n",
    "    print('IF worked')\n",
    "elif 20 == 10:\n",
    "    print('ELIF worked')\n",
    "else:\n",
    "    print('ELSE worked')"
   ]
  },
  {
   "cell_type": "markdown",
   "id": "10282bba-31c3-4667-a5e6-677c044549df",
   "metadata": {},
   "source": [
    "Below in our IF statement we used **AND** operator and one condition is **false** so it will go down to ELIF \n",
    "\n",
    "In ELIF statement we used **OR** operator and one of our condition is **true** so it will run ELIF and ignore else. "
   ]
  },
  {
   "cell_type": "code",
   "execution_count": 17,
   "id": "d6e7875c-c583-4b84-aec8-d1fcb33b6599",
   "metadata": {},
   "outputs": [
    {
     "name": "stdout",
     "output_type": "stream",
     "text": [
      "ELIF worked\n"
     ]
    }
   ],
   "source": [
    "if (10 < 5) and (30 <= 80):\n",
    "    print('IF worked')\n",
    "elif (20 == 20) or (50 > 100):\n",
    "    print('ELIF worked')\n",
    "else:\n",
    "    print('ELSE worked')"
   ]
  },
  {
   "cell_type": "markdown",
   "id": "256201fb-b30c-4b77-90f1-1dc99aed9894",
   "metadata": {},
   "source": [
    "**Writing If-Else statement in one line**"
   ]
  },
  {
   "cell_type": "code",
   "execution_count": 20,
   "id": "ba316678-fed9-4d8d-b39b-1b46dc7fb3e5",
   "metadata": {},
   "outputs": [
    {
     "name": "stdout",
     "output_type": "stream",
     "text": [
      "It did not worked...\n"
     ]
    }
   ],
   "source": [
    "print('If worked!!!') if 20 < 10 else print('It did not worked...')"
   ]
  },
  {
   "cell_type": "markdown",
   "id": "4ce6d931-e3e3-4a2c-99ed-899c66805a1f",
   "metadata": {},
   "source": [
    "**NESTED IF Statement**\n",
    "\n",
    "At the **end of every If statement we write another IF statement with it's own condition** and its go on and on.\n",
    "\n",
    "When we want to create very deep logic then **NESTED If** go on and on and it happens alot when we start writing advance codes.\n",
    "\n",
    "**When condition is not met in Nested If then it will not run the code**. "
   ]
  },
  {
   "cell_type": "code",
   "execution_count": 23,
   "id": "532b08d1-16dd-440f-9aeb-c723b78e2f99",
   "metadata": {},
   "outputs": [
    {
     "name": "stdout",
     "output_type": "stream",
     "text": [
      "If worked\n",
      "This NESTED IF worked\n",
      "This NESTED IF 2 worked\n",
      "This NESTED IF 3 worked\n",
      "ELIF worked\n"
     ]
    }
   ],
   "source": [
    "if (10 > 5) and (30 <= 80):\n",
    "    print('If worked')\n",
    "if (20 > 40) or (100 >= 90):\n",
    "    print('This NESTED IF worked')\n",
    "if ('Zohaib' > 'Ahmed'):\n",
    "    print('This NESTED IF 2 worked')\n",
    "if ('Skyfall' != 'skyfall'):\n",
    "    print('This NESTED IF 3 worked')\n",
    "if (50 > 100):\n",
    "    print('This NESTED IF 4 did not worked')\n",
    "elif (20 == 20) or (50 > 100):\n",
    "    print('ELIF worked')\n",
    "else:\n",
    "    print('ELSE worked')"
   ]
  },
  {
   "cell_type": "code",
   "execution_count": null,
   "id": "c7b454d9-17cc-471c-b1c5-9ed56b529fbb",
   "metadata": {},
   "outputs": [],
   "source": []
  },
  {
   "cell_type": "code",
   "execution_count": null,
   "id": "905090f6-dd60-429f-8cb5-313c3d34476b",
   "metadata": {},
   "outputs": [],
   "source": []
  }
 ],
 "metadata": {
  "kernelspec": {
   "display_name": "Python [conda env:base] *",
   "language": "python",
   "name": "conda-base-py"
  },
  "language_info": {
   "codemirror_mode": {
    "name": "ipython",
    "version": 3
   },
   "file_extension": ".py",
   "mimetype": "text/x-python",
   "name": "python",
   "nbconvert_exporter": "python",
   "pygments_lexer": "ipython3",
   "version": "3.12.7"
  }
 },
 "nbformat": 4,
 "nbformat_minor": 5
}
