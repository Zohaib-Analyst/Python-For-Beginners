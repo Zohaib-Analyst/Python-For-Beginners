{
 "cells": [
  {
   "cell_type": "markdown",
   "id": "bb504c5f-ecfb-4c13-8f50-762923e23aa9",
   "metadata": {},
   "source": [
    "## Converting Data Types in Python"
   ]
  },
  {
   "cell_type": "markdown",
   "id": "2e857a6e-f263-482e-b1f7-69a0bd27a689",
   "metadata": {},
   "source": [
    "In python we can convert data types such as strings, numbers, sets, tuples and even dictionaries."
   ]
  },
  {
   "cell_type": "markdown",
   "id": "b24c7e07-1369-411b-bee6-8e0113d5d8f0",
   "metadata": {},
   "source": [
    "**Converting a String to an Integer**"
   ]
  },
  {
   "cell_type": "code",
   "execution_count": 8,
   "id": "c14e945d-432f-4ba0-a4c8-12420dc0a854",
   "metadata": {},
   "outputs": [
    {
     "data": {
      "text/plain": [
       "int"
      ]
     },
     "execution_count": 8,
     "metadata": {},
     "output_type": "execute_result"
    }
   ],
   "source": [
    "type_int = 7\n",
    "\n",
    "type(type_int)"
   ]
  },
  {
   "cell_type": "code",
   "execution_count": 10,
   "id": "4880b570-e210-4d77-a43b-48c748be7f4d",
   "metadata": {},
   "outputs": [
    {
     "data": {
      "text/plain": [
       "str"
      ]
     },
     "execution_count": 10,
     "metadata": {},
     "output_type": "execute_result"
    }
   ],
   "source": [
    "type_str = '7'\n",
    "\n",
    "type(type_str)"
   ]
  },
  {
   "cell_type": "markdown",
   "id": "f381bb2f-480a-4cf7-aad0-544affe17aac",
   "metadata": {},
   "source": [
    "We have two variables **type_int** and **type_str**, if we want to add them it will give us an error, because one stored an integer and other contains a string."
   ]
  },
  {
   "cell_type": "code",
   "execution_count": 15,
   "id": "a03ff734-3966-4e74-9691-f84ca95da07c",
   "metadata": {},
   "outputs": [
    {
     "ename": "TypeError",
     "evalue": "unsupported operand type(s) for +: 'int' and 'str'",
     "output_type": "error",
     "traceback": [
      "\u001b[1;31m---------------------------------------------------------------------------\u001b[0m",
      "\u001b[1;31mTypeError\u001b[0m                                 Traceback (most recent call last)",
      "Cell \u001b[1;32mIn[15], line 1\u001b[0m\n\u001b[1;32m----> 1\u001b[0m sum_type \u001b[38;5;241m=\u001b[39m type_int \u001b[38;5;241m+\u001b[39m type_str\n",
      "\u001b[1;31mTypeError\u001b[0m: unsupported operand type(s) for +: 'int' and 'str'"
     ]
    }
   ],
   "source": [
    "sum_type = type_int + type_str"
   ]
  },
  {
   "cell_type": "markdown",
   "id": "8fe4a742-f955-4118-98fe-bc18d12274eb",
   "metadata": {},
   "source": [
    "So we cannot add an integer and a string, but what we can do to add these two numbers is to **convert type_str into an integer**. "
   ]
  },
  {
   "cell_type": "code",
   "execution_count": 18,
   "id": "c8788d95-9d54-4210-a7a7-fe0366c74212",
   "metadata": {},
   "outputs": [
    {
     "data": {
      "text/plain": [
       "int"
      ]
     },
     "execution_count": 18,
     "metadata": {},
     "output_type": "execute_result"
    }
   ],
   "source": [
    "type_str_converted = int(type_str) # Coverting a string value to an integer\n",
    "\n",
    "type(type_str_converted)"
   ]
  },
  {
   "cell_type": "markdown",
   "id": "1be7a92d-93b3-4729-acaa-bc1dbb65d18c",
   "metadata": {},
   "source": [
    "So that is all that we need to do to convert a string into an integer by just typing **int** and then in parenthesis **()** type **variable name**.\n",
    "\n",
    "Now if we add **type_int and type_str_converted** we will get 14.\n",
    "\n",
    "We did not assigned **int** type to sum_type, however, we the variables we added both were integers so python automatically assigned integer to sum_type."
   ]
  },
  {
   "cell_type": "code",
   "execution_count": 28,
   "id": "aec12ffc-d62d-45ce-b1e8-075d93890979",
   "metadata": {},
   "outputs": [
    {
     "name": "stdout",
     "output_type": "stream",
     "text": [
      "14\n"
     ]
    },
    {
     "data": {
      "text/plain": [
       "int"
      ]
     },
     "execution_count": 28,
     "metadata": {},
     "output_type": "execute_result"
    }
   ],
   "source": [
    "sum_type = type_int + type_str_converted\n",
    "\n",
    "print(sum_type)\n",
    "\n",
    "type(sum_type)"
   ]
  },
  {
   "cell_type": "markdown",
   "id": "7fa7d420-81e6-4792-b8d0-e7e550e01bb9",
   "metadata": {},
   "source": [
    "**Converting a List to a Tuple**"
   ]
  },
  {
   "cell_type": "code",
   "execution_count": 37,
   "id": "08a44c36-dda0-4d31-89b1-04c06c6fbee4",
   "metadata": {},
   "outputs": [
    {
     "data": {
      "text/plain": [
       "list"
      ]
     },
     "execution_count": 37,
     "metadata": {},
     "output_type": "execute_result"
    }
   ],
   "source": [
    "type_list = [1,2,3]\n",
    "\n",
    "type(type_list)"
   ]
  },
  {
   "cell_type": "markdown",
   "id": "09ba1927-8da3-4593-a0f7-cd8037f1b9fe",
   "metadata": {},
   "source": [
    "We can convert List into Tuple in following two easy ways "
   ]
  },
  {
   "cell_type": "code",
   "execution_count": 51,
   "id": "7b8bd0b1-5341-4d88-af0e-717e0ab246a4",
   "metadata": {},
   "outputs": [
    {
     "data": {
      "text/plain": [
       "(1, 2, 3)"
      ]
     },
     "execution_count": 51,
     "metadata": {},
     "output_type": "execute_result"
    }
   ],
   "source": [
    "tuple(type_list) # First way of coverting list into a tuple"
   ]
  },
  {
   "cell_type": "code",
   "execution_count": 49,
   "id": "74ef848e-b86a-430f-92a4-b45143d0eb5c",
   "metadata": {},
   "outputs": [
    {
     "data": {
      "text/plain": [
       "tuple"
      ]
     },
     "execution_count": 49,
     "metadata": {},
     "output_type": "execute_result"
    }
   ],
   "source": [
    "type(tuple(type_list))"
   ]
  },
  {
   "cell_type": "code",
   "execution_count": 55,
   "id": "4a28f41f-bd50-4895-bfe1-2d9f3655fa03",
   "metadata": {},
   "outputs": [
    {
     "data": {
      "text/plain": [
       "tuple"
      ]
     },
     "execution_count": 55,
     "metadata": {},
     "output_type": "execute_result"
    }
   ],
   "source": [
    "type_list_tuple = tuple(type_list) # Second way\n",
    "\n",
    "type(type_list_tuple)"
   ]
  },
  {
   "cell_type": "markdown",
   "id": "d6d4cbd1-6d9b-4651-ac3e-a15518403a17",
   "metadata": {},
   "source": [
    "**Converting List to a Set**\n",
    "\n",
    "We can also convert List to a Set, but it may change the actual values within it. So let's create a new list and convert it"
   ]
  },
  {
   "cell_type": "code",
   "execution_count": 62,
   "id": "58f24586-0595-42f2-8e30-aa73f2f09f0b",
   "metadata": {},
   "outputs": [],
   "source": [
    "type_list = [1,2,3,4,3,2,1,3,2]"
   ]
  },
  {
   "cell_type": "code",
   "execution_count": 64,
   "id": "def25c53-0100-4af7-b822-7616fbcb3368",
   "metadata": {},
   "outputs": [
    {
     "data": {
      "text/plain": [
       "{1, 2, 3, 4}"
      ]
     },
     "execution_count": 64,
     "metadata": {},
     "output_type": "execute_result"
    }
   ],
   "source": [
    "set(type_list) "
   ]
  },
  {
   "cell_type": "code",
   "execution_count": 70,
   "id": "7ef89b8b-ba79-44a9-83b6-a85e508416e0",
   "metadata": {},
   "outputs": [
    {
     "data": {
      "text/plain": [
       "set"
      ]
     },
     "execution_count": 70,
     "metadata": {},
     "output_type": "execute_result"
    }
   ],
   "source": [
    "type(set(type_list))"
   ]
  },
  {
   "cell_type": "markdown",
   "id": "c1a8852e-59a2-4b56-b8df-ecd3fb919fc5",
   "metadata": {},
   "source": [
    "While converting a list to a **Set** what it did is that it took the **unique values** and converted only those values into a set. So that is what we definitely need to be aware of that set only has unique values so it may change the data which was stored in origional list."
   ]
  },
  {
   "cell_type": "markdown",
   "id": "ad27e599-8264-4e1a-8d24-7a2c77206936",
   "metadata": {},
   "source": [
    "**Coverting Dictionary into a List**"
   ]
  },
  {
   "cell_type": "code",
   "execution_count": 74,
   "id": "192e5a62-0964-4cc2-94d3-055a9bea6109",
   "metadata": {},
   "outputs": [
    {
     "data": {
      "text/plain": [
       "dict"
      ]
     },
     "execution_count": 74,
     "metadata": {},
     "output_type": "execute_result"
    }
   ],
   "source": [
    "type_dict = {'Name': 'Zohaib Ahmed', 'Position': 'Data Analyst', 'Expertise': 'SQL, Excel, Python'}\n",
    "\n",
    "type(type_dict)"
   ]
  },
  {
   "cell_type": "markdown",
   "id": "f01ca7fb-44f1-462a-afba-8fee94fd3827",
   "metadata": {},
   "source": [
    "What we can do with a dictionary is that if we want we can call or display all of the **items**, **values** or **keys** using seperate code for each one."
   ]
  },
  {
   "cell_type": "code",
   "execution_count": 79,
   "id": "7f4fe278-9039-499e-9bc0-d78565fa1aff",
   "metadata": {},
   "outputs": [
    {
     "data": {
      "text/plain": [
       "dict_items([('Name', 'Zohaib Ahmed'), ('Position', 'Data Analyst'), ('Expertise', 'SQL, Excel, Python')])"
      ]
     },
     "execution_count": 79,
     "metadata": {},
     "output_type": "execute_result"
    }
   ],
   "source": [
    "type_dict.items() # to call all itmes of a dictionary. An item in dictionary is a pair of key/value pair. "
   ]
  },
  {
   "cell_type": "code",
   "execution_count": 81,
   "id": "b3ac086b-b823-497e-ab5b-1f8a3c6997cf",
   "metadata": {},
   "outputs": [
    {
     "data": {
      "text/plain": [
       "dict_values(['Zohaib Ahmed', 'Data Analyst', 'SQL, Excel, Python'])"
      ]
     },
     "execution_count": 81,
     "metadata": {},
     "output_type": "execute_result"
    }
   ],
   "source": [
    "type_dict.values() # displaying values of a dictionary"
   ]
  },
  {
   "cell_type": "code",
   "execution_count": 83,
   "id": "576efeb8-6b6d-4dbf-8c6c-fb64bcab9c2f",
   "metadata": {},
   "outputs": [
    {
     "data": {
      "text/plain": [
       "dict_keys(['Name', 'Position', 'Expertise'])"
      ]
     },
     "execution_count": 83,
     "metadata": {},
     "output_type": "execute_result"
    }
   ],
   "source": [
    "type_dict.keys() # extracting keys "
   ]
  },
  {
   "cell_type": "markdown",
   "id": "b7476395-3ebb-40be-9608-456d5a17cb61",
   "metadata": {},
   "source": [
    "Let's suppose that we want all the **keys** in a dictionary and put them into a **list**. So what we will do is that we will type in **list** and within parenthesis **()** we will put the entire expression/code with which we call keys from a dictionary. "
   ]
  },
  {
   "cell_type": "code",
   "execution_count": 108,
   "id": "f9318e35-4bb8-45fe-b48d-e9d96a093562",
   "metadata": {},
   "outputs": [
    {
     "data": {
      "text/plain": [
       "['Name', 'Position', 'Expertise']"
      ]
     },
     "execution_count": 108,
     "metadata": {},
     "output_type": "execute_result"
    }
   ],
   "source": [
    "list(type_dict.keys())"
   ]
  },
  {
   "cell_type": "code",
   "execution_count": 113,
   "id": "5e478bad-ef5f-43e3-9db7-266acce07928",
   "metadata": {},
   "outputs": [
    {
     "data": {
      "text/plain": [
       "list"
      ]
     },
     "execution_count": 113,
     "metadata": {},
     "output_type": "execute_result"
    }
   ],
   "source": [
    "type(list(type_dict.keys())) # To confirm the type of the list"
   ]
  },
  {
   "cell_type": "markdown",
   "id": "c1be569a-9f4c-4a64-9194-58671641302f",
   "metadata": {},
   "source": [
    "We can convert values into a list using exact same way"
   ]
  },
  {
   "cell_type": "code",
   "execution_count": 115,
   "id": "4f399be7-f2d5-4e85-8aa9-be79e4db27df",
   "metadata": {},
   "outputs": [
    {
     "data": {
      "text/plain": [
       "['Zohaib Ahmed', 'Data Analyst', 'SQL, Excel, Python']"
      ]
     },
     "execution_count": 115,
     "metadata": {},
     "output_type": "execute_result"
    }
   ],
   "source": [
    "list(type_dict.values()) # Converting vlaues in a dictionary to a list"
   ]
  },
  {
   "cell_type": "code",
   "execution_count": 117,
   "id": "2f1ba992-0405-4249-a402-56f4ee49801c",
   "metadata": {},
   "outputs": [
    {
     "data": {
      "text/plain": [
       "list"
      ]
     },
     "execution_count": 117,
     "metadata": {},
     "output_type": "execute_result"
    }
   ],
   "source": [
    "type(list(type_dict.values()))"
   ]
  },
  {
   "cell_type": "markdown",
   "id": "45d18f53-1dca-442c-b4d8-23c9f07ff5d2",
   "metadata": {},
   "source": [
    "**Converting Longer Strings**"
   ]
  },
  {
   "cell_type": "code",
   "execution_count": 123,
   "id": "bec9265e-ee94-4d8f-995c-b487bc96cc1e",
   "metadata": {},
   "outputs": [
    {
     "data": {
      "text/plain": [
       "['I',\n",
       " ' ',\n",
       " 'l',\n",
       " 'i',\n",
       " 'k',\n",
       " 'e',\n",
       " ' ',\n",
       " 'p',\n",
       " 'r',\n",
       " 'o',\n",
       " 'g',\n",
       " 'r',\n",
       " 'a',\n",
       " 'm',\n",
       " 'm',\n",
       " 'i',\n",
       " 'n',\n",
       " 'g']"
      ]
     },
     "execution_count": 123,
     "metadata": {},
     "output_type": "execute_result"
    }
   ],
   "source": [
    "long_str = 'I like programming'\n",
    "\n",
    "list(long_str) # Converting a long string into a list"
   ]
  },
  {
   "cell_type": "markdown",
   "id": "cde1fc28-c270-4228-9176-30ba7ee42bed",
   "metadata": {},
   "source": [
    "So it took every single character in our string and put it into the list. And we can also convert this long string into a **set** as well"
   ]
  },
  {
   "cell_type": "code",
   "execution_count": 126,
   "id": "a9605f76-2732-4498-8f48-9777a452c4f0",
   "metadata": {},
   "outputs": [
    {
     "data": {
      "text/plain": [
       "{' ', 'I', 'a', 'e', 'g', 'i', 'k', 'l', 'm', 'n', 'o', 'p', 'r'}"
      ]
     },
     "execution_count": 126,
     "metadata": {},
     "output_type": "execute_result"
    }
   ],
   "source": [
    "set(long_str)"
   ]
  },
  {
   "cell_type": "markdown",
   "id": "f41ab04f-9a93-4eba-840a-6c374b94dcea",
   "metadata": {},
   "source": [
    "Set is a lot shorter as compare to list because set only includes unique values."
   ]
  },
  {
   "cell_type": "code",
   "execution_count": null,
   "id": "f3bb31e4-b6d8-48cd-a9e1-b6256c7d2216",
   "metadata": {},
   "outputs": [],
   "source": []
  },
  {
   "cell_type": "code",
   "execution_count": null,
   "id": "9f825f82-9d3f-4638-a25b-18b2a6ff7016",
   "metadata": {},
   "outputs": [],
   "source": []
  }
 ],
 "metadata": {
  "kernelspec": {
   "display_name": "Python [conda env:base] *",
   "language": "python",
   "name": "conda-base-py"
  },
  "language_info": {
   "codemirror_mode": {
    "name": "ipython",
    "version": 3
   },
   "file_extension": ".py",
   "mimetype": "text/x-python",
   "name": "python",
   "nbconvert_exporter": "python",
   "pygments_lexer": "ipython3",
   "version": "3.12.7"
  }
 },
 "nbformat": 4,
 "nbformat_minor": 5
}
