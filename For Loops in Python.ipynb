{
 "cells": [
  {
   "cell_type": "markdown",
   "id": "502fd838-59b4-42fe-b710-82602cb141ce",
   "metadata": {},
   "source": [
    "# For Loops"
   ]
  },
  {
   "cell_type": "markdown",
   "id": "ea5de50d-131d-49c5-97b3-dfea63162e6e",
   "metadata": {},
   "source": [
    "**For Loop** is used to iterate over a sequence which could be a list, a tuple, arry, a string or even a dictionary. \n",
    "\n",
    "For Loop starts by looking at the first element in our sequence and asks if this is the last element of the sequence and if it is not\n",
    "it will go down to the second item in the sequence then third and fourth untill it reaches the last item of the list. \n",
    "\n",
    "Once For Loop reaches the last value of the sequence it will automatically ends. "
   ]
  },
  {
   "cell_type": "code",
   "execution_count": 3,
   "id": "ce464106-e700-48c3-8470-86410f689170",
   "metadata": {},
   "outputs": [],
   "source": [
    "# We will use the following list of integers to write the syntax of a For Loop\n",
    "\n",
    "integers = [1,2,3,4,5]"
   ]
  },
  {
   "cell_type": "markdown",
   "id": "2d00fd5f-b313-4468-b14c-47d4d0e38840",
   "metadata": {},
   "source": [
    "To start a For Loop syntax first we will type in **for** because for is reserved key word for For Loop in python. \n",
    "\n",
    "Then we will give a temporary variable name to this loop (it could be any name like value, number, items, elements or anything we would like.) which will iterate throught the elements of this list. For now we will name our variable as **num** because we have numbers in the list. \n",
    "\n",
    "We will write **in** which is a key word and then type in the variable name of our list which is **integers**  followed by a colon **:**\n",
    "\n",
    "Now we will hit 'ENTER' and then write our code. For instance, print(num)."
   ]
  },
  {
   "cell_type": "code",
   "execution_count": 13,
   "id": "ecbeb6be-a8d7-4cde-b6d7-c7d24b00a116",
   "metadata": {},
   "outputs": [
    {
     "name": "stdout",
     "output_type": "stream",
     "text": [
      "1\n",
      "2\n",
      "3\n",
      "4\n",
      "5\n"
     ]
    }
   ],
   "source": [
    "integers = [1,2,3,4,5]\n",
    "\n",
    "for num in integers:\n",
    "    print(num)"
   ]
  },
  {
   "cell_type": "code",
   "execution_count": 17,
   "id": "6d1ffb1f-b723-4275-9bfa-fd388e0e03b8",
   "metadata": {},
   "outputs": [
    {
     "name": "stdout",
     "output_type": "stream",
     "text": [
      "Programming\n",
      "Learning Tech\n",
      "Reading\n",
      "Cricket\n",
      "Cooking\n"
     ]
    }
   ],
   "source": [
    "my_hobbies = ['Programming', 'Learning Tech', 'Reading', 'Cricket','Cooking']\n",
    "\n",
    "for activities in my_hobbies:\n",
    "    print(activities)"
   ]
  },
  {
   "cell_type": "code",
   "execution_count": 19,
   "id": "7ff31890-484e-49ae-93e5-63abaf1aef07",
   "metadata": {},
   "outputs": [
    {
     "name": "stdout",
     "output_type": "stream",
     "text": [
      "1\n",
      "2\n",
      "3\n",
      "7\n",
      "13\n",
      "5\n",
      "7\n"
     ]
    }
   ],
   "source": [
    "tuple = [1,2,3,7,13,5,7]\n",
    "\n",
    "for elements in tuple:\n",
    "    print(elements)"
   ]
  },
  {
   "cell_type": "code",
   "execution_count": 21,
   "id": "b66dcdc3-cf44-4cfb-948e-da2862465003",
   "metadata": {},
   "outputs": [
    {
     "name": "stdout",
     "output_type": "stream",
     "text": [
      "z\n",
      "o\n",
      "h\n",
      "a\n",
      "i\n",
      "b\n",
      "a\n",
      "h\n",
      "m\n",
      "e\n",
      "d\n"
     ]
    }
   ],
   "source": [
    "string = 'zohaibahmed'\n",
    "\n",
    "for chars in string:\n",
    "    print(chars)"
   ]
  },
  {
   "cell_type": "markdown",
   "id": "ddac796a-9430-4064-8d63-04c75328eb05",
   "metadata": {},
   "source": [
    "In the body of **For Loop** we can just do anything we want. \n",
    "\n",
    "For instance, we don't have to use variable **num** we can just print **Hello!** if we want to.\n",
    "\n",
    "What For Loop will do for each 5 iterations is that it will print out \"Hello!\" everytime it loops through. "
   ]
  },
  {
   "cell_type": "code",
   "execution_count": 5,
   "id": "4f067b1b-1579-4ae2-b734-609668e7dec3",
   "metadata": {},
   "outputs": [
    {
     "name": "stdout",
     "output_type": "stream",
     "text": [
      "Hello!\n",
      "Hello!\n",
      "Hello!\n",
      "Hello!\n",
      "Hello!\n"
     ]
    }
   ],
   "source": [
    "integers = [1,2,3,4,5]\n",
    "\n",
    "for num in integers:\n",
    "    print(\"Hello!\")"
   ]
  },
  {
   "cell_type": "markdown",
   "id": "30ec7a88-d980-4c0a-8015-32bc819ff12c",
   "metadata": {},
   "source": [
    "We can give any name to our variable such as **pie** and we can write in our code **print(pie + pie)**. What it will do?\n",
    "\n",
    "When it loops through that 1+1 results in 2, 2+2 in 4 and so on. So this is how basically a For Loop works."
   ]
  },
  {
   "cell_type": "code",
   "execution_count": 9,
   "id": "ca077200-ed3d-41a4-aa45-a79610c18534",
   "metadata": {},
   "outputs": [
    {
     "name": "stdout",
     "output_type": "stream",
     "text": [
      "2\n",
      "4\n",
      "6\n",
      "8\n",
      "10\n"
     ]
    }
   ],
   "source": [
    "integers = [1,2,3,4,5]\n",
    "\n",
    "for pie in integers:\n",
    "    print(pie+pie)"
   ]
  },
  {
   "cell_type": "markdown",
   "id": "f9508f1b-1340-4623-aa52-30e690dbaaad",
   "metadata": {},
   "source": [
    "When it comes to a **Dictionary**, For Loop handles it differently then other data types. \n",
    "\n",
    "So we will create a dictionary then use a For Loop to call it.\n",
    "\n",
    "So we have to write in our For Loop what we want to pull out from a dictionary. Are we pulling keys, values or itmes?"
   ]
  },
  {
   "cell_type": "code",
   "execution_count": 12,
   "id": "6846b45b-c6cf-4976-b06b-5f8a00901666",
   "metadata": {},
   "outputs": [],
   "source": [
    "fav_software_dict = {'Name': 'Zohaib Ahmed', 'Expert_Skills': 5, 'My_fav': ['SQL', 'Python', 'Excel', 'Power BI']}"
   ]
  },
  {
   "cell_type": "code",
   "execution_count": 14,
   "id": "37198f8f-e48b-4e72-9db6-8175809c25e9",
   "metadata": {},
   "outputs": [
    {
     "name": "stdout",
     "output_type": "stream",
     "text": [
      "Zohaib Ahmed\n",
      "5\n",
      "['SQL', 'Python', 'Excel', 'Power BI']\n"
     ]
    }
   ],
   "source": [
    "for elements in fav_software_dict.values(): # To call values from a dictionary using a For Loop\n",
    "    print(elements)"
   ]
  },
  {
   "cell_type": "code",
   "execution_count": 16,
   "id": "3957e280-06f4-4059-bc03-6cfb306448a7",
   "metadata": {},
   "outputs": [
    {
     "name": "stdout",
     "output_type": "stream",
     "text": [
      "Name\n",
      "Expert_Skills\n",
      "My_fav\n"
     ]
    }
   ],
   "source": [
    "for tech in fav_software_dict.keys(): # To call keys from a dictionary using a For Loop \n",
    "    print(tech)"
   ]
  },
  {
   "cell_type": "code",
   "execution_count": 18,
   "id": "7e5b2661-cba0-45a7-989c-d3d9e6839a0a",
   "metadata": {},
   "outputs": [
    {
     "name": "stdout",
     "output_type": "stream",
     "text": [
      "('Name', 'Zohaib Ahmed')\n",
      "('Expert_Skills', 5)\n",
      "('My_fav', ['SQL', 'Python', 'Excel', 'Power BI'])\n"
     ]
    }
   ],
   "source": [
    "for itm in fav_software_dict.items(): # To call items (Both keys and values at one time) from a dictionary using a For Loop \n",
    "    print(itm)"
   ]
  },
  {
   "cell_type": "code",
   "execution_count": null,
   "id": "f15c35f3-8d6f-4c81-9ed2-90e95105738e",
   "metadata": {},
   "outputs": [],
   "source": []
  },
  {
   "cell_type": "markdown",
   "id": "351a063f-56c1-4c8d-849d-307f46ab4b2f",
   "metadata": {},
   "source": [
    " **Nested For Loop** \n",
    " \n",
    "A loop within a loop\n",
    "\n",
    "Let's suppose we have two lists, **flavours** and **toppings** and we will use a **Nested For Loop** to see how it will give toppings to different flavours.\n",
    "\n",
    "So first we will type in our first For Loop then after hitting enter we will write our second For Loop and then we will write down our code. \n",
    "\n",
    "In first iteration it will top Strawberry with each flavour then in second loop Vanilla and in third loop Chocolate."
   ]
  },
  {
   "cell_type": "code",
   "execution_count": 22,
   "id": "67e48b75-ab65-4f7c-a76a-2352ddcd0cff",
   "metadata": {},
   "outputs": [],
   "source": [
    "flavours = ['Strawberry', 'Vanilla', 'Chocolate']\n",
    "toppings = ['Orios', 'Marshmallows', 'Cookies']"
   ]
  },
  {
   "cell_type": "code",
   "execution_count": 24,
   "id": "7386e74b-c97d-4707-95b8-708a50b3c052",
   "metadata": {},
   "outputs": [
    {
     "name": "stdout",
     "output_type": "stream",
     "text": [
      "Strawberry topped with Orios\n",
      "Strawberry topped with Marshmallows\n",
      "Strawberry topped with Cookies\n",
      "Vanilla topped with Orios\n",
      "Vanilla topped with Marshmallows\n",
      "Vanilla topped with Cookies\n",
      "Chocolate topped with Orios\n",
      "Chocolate topped with Marshmallows\n",
      "Chocolate topped with Cookies\n"
     ]
    }
   ],
   "source": [
    "for base in flavours:\n",
    "    for top in toppings:\n",
    "        print(base, 'topped with',top)"
   ]
  },
  {
   "cell_type": "code",
   "execution_count": null,
   "id": "42f3dd18-04b5-424c-83fb-f8b275ff3c49",
   "metadata": {},
   "outputs": [],
   "source": []
  },
  {
   "cell_type": "code",
   "execution_count": null,
   "id": "3d94497d-61c2-4c13-815f-612278e690dd",
   "metadata": {},
   "outputs": [],
   "source": []
  }
 ],
 "metadata": {
  "kernelspec": {
   "display_name": "Python [conda env:base] *",
   "language": "python",
   "name": "conda-base-py"
  },
  "language_info": {
   "codemirror_mode": {
    "name": "ipython",
    "version": 3
   },
   "file_extension": ".py",
   "mimetype": "text/x-python",
   "name": "python",
   "nbconvert_exporter": "python",
   "pygments_lexer": "ipython3",
   "version": "3.12.7"
  }
 },
 "nbformat": 4,
 "nbformat_minor": 5
}
