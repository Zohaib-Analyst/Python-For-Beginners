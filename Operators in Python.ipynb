{
 "cells": [
  {
   "cell_type": "markdown",
   "id": "e2253039-3ec3-461e-ac79-96ad124dc0bc",
   "metadata": {},
   "source": [
    "# Comparison Operators"
   ]
  },
  {
   "cell_type": "markdown",
   "id": "bf7130a3-2f7f-4a4d-a1ee-fec13b33c57c",
   "metadata": {},
   "source": [
    "**==** Equal to"
   ]
  },
  {
   "cell_type": "code",
   "execution_count": 4,
   "id": "29f44283-4412-4634-bf49-1e7eb97b73d0",
   "metadata": {},
   "outputs": [
    {
     "data": {
      "text/plain": [
       "True"
      ]
     },
     "execution_count": 4,
     "metadata": {},
     "output_type": "execute_result"
    }
   ],
   "source": [
    "10 == 10"
   ]
  },
  {
   "cell_type": "code",
   "execution_count": 6,
   "id": "c0c99595-df0c-4b7f-9207-899b9416ad47",
   "metadata": {},
   "outputs": [
    {
     "data": {
      "text/plain": [
       "True"
      ]
     },
     "execution_count": 6,
     "metadata": {},
     "output_type": "execute_result"
    }
   ],
   "source": [
    "'True' == 'True'"
   ]
  },
  {
   "cell_type": "code",
   "execution_count": 8,
   "id": "1c701c1c-b376-4ab4-8b36-34e0b7a1d3db",
   "metadata": {},
   "outputs": [
    {
     "data": {
      "text/plain": [
       "False"
      ]
     },
     "execution_count": 8,
     "metadata": {},
     "output_type": "execute_result"
    }
   ],
   "source": [
    "'True' == 'False'"
   ]
  },
  {
   "cell_type": "markdown",
   "id": "4b6b0ced-6153-43af-a3f1-8cd03a048a3c",
   "metadata": {},
   "source": [
    "**!=** Not Equal to"
   ]
  },
  {
   "cell_type": "code",
   "execution_count": 10,
   "id": "1a04db34-fb62-4b83-9b38-03eb295ecbde",
   "metadata": {},
   "outputs": [
    {
     "data": {
      "text/plain": [
       "True"
      ]
     },
     "execution_count": 10,
     "metadata": {},
     "output_type": "execute_result"
    }
   ],
   "source": [
    "10 != 20"
   ]
  },
  {
   "cell_type": "code",
   "execution_count": 12,
   "id": "d9780d50-9e10-4ee5-82a5-92829136fbbf",
   "metadata": {},
   "outputs": [
    {
     "data": {
      "text/plain": [
       "True"
      ]
     },
     "execution_count": 12,
     "metadata": {},
     "output_type": "execute_result"
    }
   ],
   "source": [
    "'True' != 'true'"
   ]
  },
  {
   "cell_type": "code",
   "execution_count": 15,
   "id": "34bb12ea-68a6-40c3-9f15-b68a0b991a6f",
   "metadata": {},
   "outputs": [
    {
     "data": {
      "text/plain": [
       "False"
      ]
     },
     "execution_count": 15,
     "metadata": {},
     "output_type": "execute_result"
    }
   ],
   "source": [
    "'True' != 'True'"
   ]
  },
  {
   "cell_type": "markdown",
   "id": "97298141-3897-4606-89d9-7aed21e2bc77",
   "metadata": {},
   "source": [
    "**>** Greater Than"
   ]
  },
  {
   "cell_type": "code",
   "execution_count": 17,
   "id": "9ef809c7-2281-4193-92a0-1299893205c3",
   "metadata": {},
   "outputs": [
    {
     "data": {
      "text/plain": [
       "False"
      ]
     },
     "execution_count": 17,
     "metadata": {},
     "output_type": "execute_result"
    }
   ],
   "source": [
    "10 > 20"
   ]
  },
  {
   "cell_type": "code",
   "execution_count": 21,
   "id": "f7214a77-cf13-4690-8dc1-70ff53828ca3",
   "metadata": {},
   "outputs": [
    {
     "data": {
      "text/plain": [
       "True"
      ]
     },
     "execution_count": 21,
     "metadata": {},
     "output_type": "execute_result"
    }
   ],
   "source": [
    "20 > 10"
   ]
  },
  {
   "cell_type": "code",
   "execution_count": 19,
   "id": "05ac3607-38ba-40b7-a746-c5945175d8b2",
   "metadata": {},
   "outputs": [
    {
     "data": {
      "text/plain": [
       "True"
      ]
     },
     "execution_count": 19,
     "metadata": {},
     "output_type": "execute_result"
    }
   ],
   "source": [
    "'Z' > 'A'"
   ]
  },
  {
   "cell_type": "code",
   "execution_count": 23,
   "id": "05276194-f2f4-40fb-b16a-3f4d59c871f8",
   "metadata": {},
   "outputs": [
    {
     "data": {
      "text/plain": [
       "False"
      ]
     },
     "execution_count": 23,
     "metadata": {},
     "output_type": "execute_result"
    }
   ],
   "source": [
    "'Summer' > 'Winter'"
   ]
  },
  {
   "cell_type": "markdown",
   "id": "66c1b477-c2a5-44bc-9748-fd3238f1f8ab",
   "metadata": {},
   "source": [
    "**>=** Greater than or Equal To "
   ]
  },
  {
   "cell_type": "code",
   "execution_count": 25,
   "id": "6dbf1af5-034e-4e2d-99fd-00374ab33c89",
   "metadata": {},
   "outputs": [
    {
     "data": {
      "text/plain": [
       "True"
      ]
     },
     "execution_count": 25,
     "metadata": {},
     "output_type": "execute_result"
    }
   ],
   "source": [
    "50 >= 49"
   ]
  },
  {
   "cell_type": "code",
   "execution_count": 28,
   "id": "97855c9e-e4f6-49e4-a580-7373996971b1",
   "metadata": {},
   "outputs": [
    {
     "data": {
      "text/plain": [
       "False"
      ]
     },
     "execution_count": 28,
     "metadata": {},
     "output_type": "execute_result"
    }
   ],
   "source": [
    "50 >= 51"
   ]
  },
  {
   "cell_type": "code",
   "execution_count": 30,
   "id": "8b93548e-381a-4143-92e7-dba880a633da",
   "metadata": {},
   "outputs": [
    {
     "data": {
      "text/plain": [
       "True"
      ]
     },
     "execution_count": 30,
     "metadata": {},
     "output_type": "execute_result"
    }
   ],
   "source": [
    "50 >= 50"
   ]
  },
  {
   "cell_type": "code",
   "execution_count": 32,
   "id": "588b4797-2654-418e-84c6-d302a7fc5595",
   "metadata": {},
   "outputs": [
    {
     "data": {
      "text/plain": [
       "True"
      ]
     },
     "execution_count": 32,
     "metadata": {},
     "output_type": "execute_result"
    }
   ],
   "source": [
    "'Y' >= 'B'"
   ]
  },
  {
   "cell_type": "markdown",
   "id": "e43a3478-e811-431a-8b8a-806e3bf49aa4",
   "metadata": {},
   "source": [
    "**<** Less than "
   ]
  },
  {
   "cell_type": "code",
   "execution_count": 44,
   "id": "b4fbb7c0-e8fb-4be2-9c8f-c32826fd673d",
   "metadata": {},
   "outputs": [
    {
     "data": {
      "text/plain": [
       "True"
      ]
     },
     "execution_count": 44,
     "metadata": {},
     "output_type": "execute_result"
    }
   ],
   "source": [
    "100 < 200"
   ]
  },
  {
   "cell_type": "code",
   "execution_count": 46,
   "id": "95b9126d-778d-4d9d-adb7-6b6118473b03",
   "metadata": {},
   "outputs": [
    {
     "data": {
      "text/plain": [
       "False"
      ]
     },
     "execution_count": 46,
     "metadata": {},
     "output_type": "execute_result"
    }
   ],
   "source": [
    "'Z' < 'A'"
   ]
  },
  {
   "cell_type": "markdown",
   "id": "1fdbc60c-7144-44c0-a6fe-feac8972670d",
   "metadata": {},
   "source": [
    "**<=** Less than or Equal To "
   ]
  },
  {
   "cell_type": "code",
   "execution_count": 38,
   "id": "2eb5a6d7-fd55-465f-bc8f-621a62ae64db",
   "metadata": {},
   "outputs": [
    {
     "data": {
      "text/plain": [
       "True"
      ]
     },
     "execution_count": 38,
     "metadata": {},
     "output_type": "execute_result"
    }
   ],
   "source": [
    "10 <= 20"
   ]
  },
  {
   "cell_type": "code",
   "execution_count": 40,
   "id": "8536f084-7111-4d18-aa59-365aee01bd0d",
   "metadata": {},
   "outputs": [
    {
     "data": {
      "text/plain": [
       "False"
      ]
     },
     "execution_count": 40,
     "metadata": {},
     "output_type": "execute_result"
    }
   ],
   "source": [
    "10 <= 8"
   ]
  },
  {
   "cell_type": "code",
   "execution_count": 42,
   "id": "53d817f3-1687-4496-833f-053f73854be1",
   "metadata": {},
   "outputs": [
    {
     "data": {
      "text/plain": [
       "True"
      ]
     },
     "execution_count": 42,
     "metadata": {},
     "output_type": "execute_result"
    }
   ],
   "source": [
    "'a' <= 'b'"
   ]
  },
  {
   "cell_type": "markdown",
   "id": "48de3e35-acd4-4035-bbed-f448b932dec0",
   "metadata": {},
   "source": [
    "# Logical Operators"
   ]
  },
  {
   "cell_type": "markdown",
   "id": "43ce049f-ebe1-4010-b42b-0a9088bfc41e",
   "metadata": {},
   "source": [
    "**and** \n",
    "\n",
    "It returns **True** if both the statements are true"
   ]
  },
  {
   "cell_type": "code",
   "execution_count": 49,
   "id": "bc424657-d2ee-4b61-b88a-5eae47bd061f",
   "metadata": {},
   "outputs": [
    {
     "data": {
      "text/plain": [
       "True"
      ]
     },
     "execution_count": 49,
     "metadata": {},
     "output_type": "execute_result"
    }
   ],
   "source": [
    "(100 > 50) and (20 > 10)"
   ]
  },
  {
   "cell_type": "code",
   "execution_count": 51,
   "id": "9887ed81-ccbb-4659-8149-7c2cd7c8afdb",
   "metadata": {},
   "outputs": [
    {
     "data": {
      "text/plain": [
       "False"
      ]
     },
     "execution_count": 51,
     "metadata": {},
     "output_type": "execute_result"
    }
   ],
   "source": [
    "(50 > 100) and (20 > 10)"
   ]
  },
  {
   "cell_type": "code",
   "execution_count": 53,
   "id": "3ea1a9c7-48c4-4493-8fcd-2d736b437440",
   "metadata": {},
   "outputs": [
    {
     "data": {
      "text/plain": [
       "True"
      ]
     },
     "execution_count": 53,
     "metadata": {},
     "output_type": "execute_result"
    }
   ],
   "source": [
    "('A' < 'Z') and ('Y' > 'B')"
   ]
  },
  {
   "cell_type": "markdown",
   "id": "9099d230-33f9-451a-b5e4-31bbed682410",
   "metadata": {},
   "source": [
    "**or** \n",
    "\n",
    "It returns **True** if one of the statements is true"
   ]
  },
  {
   "cell_type": "code",
   "execution_count": 57,
   "id": "884c3611-fbf6-42e1-a75b-798590620000",
   "metadata": {},
   "outputs": [
    {
     "data": {
      "text/plain": [
       "True"
      ]
     },
     "execution_count": 57,
     "metadata": {},
     "output_type": "execute_result"
    }
   ],
   "source": [
    "(50 > 100) or (20 > 10)"
   ]
  },
  {
   "cell_type": "code",
   "execution_count": 59,
   "id": "b3c7369e-0ef6-4aa5-9a81-9eeb118e94e8",
   "metadata": {},
   "outputs": [
    {
     "data": {
      "text/plain": [
       "True"
      ]
     },
     "execution_count": 59,
     "metadata": {},
     "output_type": "execute_result"
    }
   ],
   "source": [
    "('A' > 'Z') or ('A' < 'Z')"
   ]
  },
  {
   "cell_type": "code",
   "execution_count": 61,
   "id": "f2268578-d3a0-48d7-a8b0-1432ff8fdef4",
   "metadata": {},
   "outputs": [
    {
     "data": {
      "text/plain": [
       "False"
      ]
     },
     "execution_count": 61,
     "metadata": {},
     "output_type": "execute_result"
    }
   ],
   "source": [
    "(10 > 100) or (10 > 20)"
   ]
  },
  {
   "cell_type": "markdown",
   "id": "a8e02048-86fb-4d7f-b1fa-8a2b877eb2cc",
   "metadata": {},
   "source": [
    "**not** \n",
    "\n",
    "It **reverse** the result, returns **False if the result is true**"
   ]
  },
  {
   "cell_type": "code",
   "execution_count": 18,
   "id": "8c439a23-ae51-4bb1-9631-5e28e3c8f622",
   "metadata": {},
   "outputs": [
    {
     "data": {
      "text/plain": [
       "True"
      ]
     },
     "execution_count": 18,
     "metadata": {},
     "output_type": "execute_result"
    }
   ],
   "source": [
    "not(10 > 100) # 10 is greater than 100 should have returned False. However, we used not operator so it reversed the result and returne True"
   ]
  },
  {
   "cell_type": "code",
   "execution_count": 20,
   "id": "a8bd7a32-c79a-4232-909d-d6d268462d3b",
   "metadata": {},
   "outputs": [
    {
     "data": {
      "text/plain": [
       "False"
      ]
     },
     "execution_count": 20,
     "metadata": {},
     "output_type": "execute_result"
    }
   ],
   "source": [
    "('Z' < 'A') # Without not operator"
   ]
  },
  {
   "cell_type": "code",
   "execution_count": 22,
   "id": "216fb936-5349-4283-bb99-922168b671db",
   "metadata": {},
   "outputs": [
    {
     "data": {
      "text/plain": [
       "True"
      ]
     },
     "execution_count": 22,
     "metadata": {},
     "output_type": "execute_result"
    }
   ],
   "source": [
    "not('Z' < 'A') # With not operator"
   ]
  },
  {
   "cell_type": "markdown",
   "id": "f8bef470-1e17-4308-9b99-67db3db5091a",
   "metadata": {},
   "source": [
    "# Membership Operators "
   ]
  },
  {
   "cell_type": "markdown",
   "id": "0efe8287-cc8b-4c93-b097-e1d9711c2181",
   "metadata": {},
   "source": [
    "Membership Operators are used to check whether a value or a string is present or not within another value, string or a sequence"
   ]
  },
  {
   "cell_type": "markdown",
   "id": "dc88e095-d867-4bad-a726-b07b0e0e04b4",
   "metadata": {},
   "source": [
    "**in**\n",
    "\n",
    "Returns **True** if a sequence with the specified value is present in the object"
   ]
  },
  {
   "cell_type": "code",
   "execution_count": 77,
   "id": "7b3a8149-9c5c-4943-b2d4-2c788d85c1be",
   "metadata": {},
   "outputs": [],
   "source": [
    "fav_weather = 'I love rainy winter nights'"
   ]
  },
  {
   "cell_type": "code",
   "execution_count": 79,
   "id": "cdb64d5f-2d28-41bc-8815-64db8ed6ddce",
   "metadata": {},
   "outputs": [
    {
     "data": {
      "text/plain": [
       "True"
      ]
     },
     "execution_count": 79,
     "metadata": {},
     "output_type": "execute_result"
    }
   ],
   "source": [
    "'rainy' in fav_weather"
   ]
  },
  {
   "cell_type": "code",
   "execution_count": 81,
   "id": "e575d74e-3e3c-4995-b9ad-e8cadad931c8",
   "metadata": {},
   "outputs": [
    {
     "data": {
      "text/plain": [
       "True"
      ]
     },
     "execution_count": 81,
     "metadata": {},
     "output_type": "execute_result"
    }
   ],
   "source": [
    "'love' in 'I love rainy winter nights'"
   ]
  },
  {
   "cell_type": "code",
   "execution_count": 85,
   "id": "7524a912-be9a-47c7-8ea6-34ed8824120a",
   "metadata": {},
   "outputs": [],
   "source": [
    "shopping_list = ['Bread', 'Butter', 'Jam', 'Eggs','Chocolate']"
   ]
  },
  {
   "cell_type": "code",
   "execution_count": 87,
   "id": "ae053fda-3ce0-4666-9f04-351f21d16dcc",
   "metadata": {},
   "outputs": [
    {
     "data": {
      "text/plain": [
       "True"
      ]
     },
     "execution_count": 87,
     "metadata": {},
     "output_type": "execute_result"
    }
   ],
   "source": [
    "'Jam' in shopping_list"
   ]
  },
  {
   "cell_type": "code",
   "execution_count": 89,
   "id": "f53a6939-6ee2-498a-8b43-4565f7d37fe5",
   "metadata": {},
   "outputs": [
    {
     "data": {
      "text/plain": [
       "False"
      ]
     },
     "execution_count": 89,
     "metadata": {},
     "output_type": "execute_result"
    }
   ],
   "source": [
    "'ice cream' in shopping_list"
   ]
  },
  {
   "cell_type": "markdown",
   "id": "81000bc2-12a6-4243-9d53-06fd9f60a970",
   "metadata": {},
   "source": [
    "**not in** \n",
    "\n",
    "Returns **True** if a squence with the specified value is **not present** in the object"
   ]
  },
  {
   "cell_type": "code",
   "execution_count": 91,
   "id": "82927b2a-5cd0-42b8-9c53-06f7e59c83bb",
   "metadata": {},
   "outputs": [
    {
     "data": {
      "text/plain": [
       "True"
      ]
     },
     "execution_count": 91,
     "metadata": {},
     "output_type": "execute_result"
    }
   ],
   "source": [
    "'ice cream' not in shopping_list"
   ]
  },
  {
   "cell_type": "code",
   "execution_count": 93,
   "id": "60b4d905-fe12-4100-a683-975f2b99be08",
   "metadata": {},
   "outputs": [
    {
     "data": {
      "text/plain": [
       "True"
      ]
     },
     "execution_count": 93,
     "metadata": {},
     "output_type": "execute_result"
    }
   ],
   "source": [
    "'Sugar' not in shopping_list"
   ]
  },
  {
   "cell_type": "code",
   "execution_count": null,
   "id": "83817fcc-bc59-46bf-b5ba-1aff3cb899d6",
   "metadata": {},
   "outputs": [],
   "source": []
  },
  {
   "cell_type": "code",
   "execution_count": null,
   "id": "a9805abc-ae8a-42c3-afde-450f92f71579",
   "metadata": {},
   "outputs": [],
   "source": []
  }
 ],
 "metadata": {
  "kernelspec": {
   "display_name": "Python [conda env:base] *",
   "language": "python",
   "name": "conda-base-py"
  },
  "language_info": {
   "codemirror_mode": {
    "name": "ipython",
    "version": 3
   },
   "file_extension": ".py",
   "mimetype": "text/x-python",
   "name": "python",
   "nbconvert_exporter": "python",
   "pygments_lexer": "ipython3",
   "version": "3.12.7"
  }
 },
 "nbformat": 4,
 "nbformat_minor": 5
}
